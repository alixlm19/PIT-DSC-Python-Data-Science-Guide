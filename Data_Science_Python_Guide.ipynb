{
  "nbformat": 4,
  "nbformat_minor": 0,
  "metadata": {
    "colab": {
      "name": "Data Science Python Guide.ipynb",
      "provenance": [],
      "collapsed_sections": []
    },
    "kernelspec": {
      "name": "python3",
      "display_name": "Python 3"
    },
    "language_info": {
      "name": "python"
    }
  },
  "cells": [
    {
      "cell_type": "markdown",
      "metadata": {
        "id": "oVRnr2VZivfU"
      },
      "source": [
        ""
      ]
    },
    {
      "cell_type": "markdown",
      "metadata": {
        "id": "_hcrBbawixP5"
      },
      "source": [
        "# Introduction to Data Science with Python  \n",
        "\n",
        "### Python guide outline:\n",
        "1. [Basics](#Basics)\n",
        "  - Brief history and Language Description\n",
        "  - Print\n",
        "  - Variables\n",
        "    - Primitives\n",
        "    - Lists\n",
        "    - Dictionaries\n",
        "  - Arithmetic operators\n",
        "  - Conditional operators\n",
        "  - Conditional clauses (if, elif, else)\n",
        "  - Loops (for, while)\n",
        "  - Functions / Methods\n",
        "  - Importing modules"
      ]
    },
    {
      "cell_type": "markdown",
      "metadata": {
        "id": "50RnVwK5jC6M"
      },
      "source": [
        "# Section 1: Basics\n",
        "\n",
        "**Disclaimer: if you are already familiar with the Python programming language, please skip to the next section.**\n",
        "\n",
        "### Brief history and Language Description\n",
        "Before we look at the Python programming language, let's dig in a bit into its history. Python was developed by Guido Van Rossum in the late 80's. Its design is mainly focused on readability and easness-of-use. For this reason, some compromises had to be made which result in certain aspects of the language being affected, mainly performance. Nonetheless, Python's clear an easy syntax allow for very quick prototyping, thus attracting developers and researchers alike.\n",
        "\n",
        "### Print\n",
        "Now that we've briefly introduced the Python programming language, let's work on getting some infomration onto the screen. One of the first--if not the first--programs that developers learn to code is the \"hello world\" program. Python has an in-built function (we'll learn more about those in a while) called the `print` function. This function takes in a string of characters, for example, the text `\"How are you today?\"` is a string of characters. That being said, let's look at how to use the `print` function in Python."
      ]
    },
    {
      "cell_type": "code",
      "metadata": {
        "colab": {
          "base_uri": "https://localhost:8080/"
        },
        "id": "ZQsBm9YJFSP5",
        "outputId": "6fe27091-561f-456d-e78e-fc12af2df69f"
      },
      "source": [
        "# <--- Press this button to run the code or press ctrl + enter (command + enter if you are on mac)\n",
        "\n",
        "# Print \"hello world\" to the console\n",
        "print(\"Hello world\")"
      ],
      "execution_count": null,
      "outputs": [
        {
          "output_type": "stream",
          "text": [
            "Hello world\n"
          ],
          "name": "stdout"
        }
      ]
    },
    {
      "cell_type": "markdown",
      "metadata": {
        "id": "A7VXLcoAIEEJ"
      },
      "source": [
        "**Side note:** lines of code that start with `#` are ignored. "
      ]
    },
    {
      "cell_type": "code",
      "metadata": {
        "id": "0UIHvaRPIWh_"
      },
      "source": [
        "# This line is a comment. \n",
        "# It will NOT be executed."
      ],
      "execution_count": null,
      "outputs": []
    },
    {
      "cell_type": "markdown",
      "metadata": {
        "id": "YS_RTZT4FvPC"
      },
      "source": [
        "### Variables\n",
        "Now that we know how to display infomation on the console, it would be convenient to know a way to store information for later use. Python lets us store infomation through variables. You can think of variables as box or container in which we can place object inside. Here is an example of a variable declarations in Python:"
      ]
    },
    {
      "cell_type": "code",
      "metadata": {
        "id": "xtQHwAkWihKm"
      },
      "source": [
        "number_of_pizza_rolls = 10                          # Integer\n",
        "message = \"This is a very important message\"        # String\n",
        "is_raining = False                                  # Boolean\n",
        "pi = 3.1415                                         # Float\n",
        "\n",
        "# Notice that by convention, if python variables consists of different words, \n",
        "# they must be separated using underscores(_). It is important to follow\n",
        "# conventions in order to write code in a standardized and reproducible way."
      ],
      "execution_count": null,
      "outputs": []
    },
    {
      "cell_type": "markdown",
      "metadata": {
        "id": "JTxME-ORImTY"
      },
      "source": [
        "In Python, there exists the concept of *primitive variables*. Primitive variables are objects that contain the most basic data types (Integers, String, Floats, etc). These primitive variables can be combined with other data types, such as a list to store information in a more organized way. \n",
        "\n",
        "*Lists* are a data type in Python that allow developers to store a collection of heterogeneous data, that is, they can store variables with different data types. Here's an example of Python lists in use:"
      ]
    },
    {
      "cell_type": "code",
      "metadata": {
        "colab": {
          "base_uri": "https://localhost:8080/"
        },
        "id": "wwVXh2ZcIli8",
        "outputId": "d3ba7a49-4dba-44ab-8ebb-b82a59a9c8ec"
      },
      "source": [
        "# Let's make a shopping list\n",
        "\n",
        "# In order to create a list, place the items to store inside square brackets '[]'\n",
        "# and separate each item using commas ','\n",
        "shopping_list = [\"milk\", \"eggs\", \"ham\", \"pizza by Alfredo\"]\n",
        "\n",
        "\n",
        "\n",
        "# We can display the shopping list using the built-in print function\n",
        "print(shopping_list)   # note that we do not use quotation marks if we are\n",
        "                       # passing a variable\n",
        "\n",
        "\n",
        "# Now that we have a shopping list, say we want to look at what the second item\n",
        "# in the list. We can do this by indexing the list. To index a list, we use the \n",
        "# square bracket notation and write the position of the item in the list we want\n",
        "# to look at (STARTING FROM 0). For example:\n",
        "print(\"First item:\", shopping_list[0])  # This prints the first item in the list\n",
        "print(\"Third item:\", shopping_list[2])  # This prints the third item in the list\n",
        "\n",
        "\n",
        "\n",
        "# If you want to change an item from the shopping list, say the first item, you\n",
        "# can use square bracket notation to assign a value to that item at the given \n",
        "# position, for example:\n",
        "shopping_list[0] = \"bread\"\n",
        "\n",
        "# If you forgot to add something into the list, you can add it using the .append\n",
        "# method, i.e.,\n",
        "print(\"Oops! I forgot to add cheese to the shopping list\")\n",
        "print()\n",
        "shopping_list.append(\"cheese\")\n",
        "print(shopping_list)\n",
        "print()\n",
        "\n",
        "\n",
        "# Similarly, if you decide you don't want to an item from the shopping list \n",
        "# anymore, you can remove it from the shopping list \n",
        "shopping_list.remove(\"pizza by Alfredo\")\n",
        "print(shopping_list)"
      ],
      "execution_count": null,
      "outputs": [
        {
          "output_type": "stream",
          "text": [
            "['milk', 'eggs', 'ham', 'pizza by Alfredo']\n",
            "First item: milk\n",
            "Third item: ham\n",
            "Oops! I forgot to add cheese to the shopping list\n",
            "\n",
            "['bread', 'eggs', 'ham', 'pizza by Alfredo', 'cheese']\n",
            "\n",
            "['bread', 'eggs', 'ham', 'cheese']\n"
          ],
          "name": "stdout"
        }
      ]
    },
    {
      "cell_type": "markdown",
      "metadata": {
        "id": "I4ZFE7R_GEgd"
      },
      "source": [
        "### Dictionaries\n",
        "Python has a very useful data type for storing and retrieving informaiton quickly called a `dictionary`. A dictionary consists of key-value pairs. Much like a real-world dictionary, you can provide a Python dictionary with a key index and look-up its value very quickly. Now let's look at a brief example on how to use dictionaries. "
      ]
    },
    {
      "cell_type": "code",
      "metadata": {
        "colab": {
          "base_uri": "https://localhost:8080/"
        },
        "id": "imtKghtKGD7P",
        "outputId": "cb99ad8f-8a5f-40fd-c592-203b69e77bf2"
      },
      "source": [
        "# To create a dictionary in Python, we use the curly-bracket notation '{}'. Each\n",
        "# item is separated by a comma ','. We can declare key-value pairs by separating\n",
        "# them with a colon \":\"\n",
        "object_colors = {\n",
        "    \"tree\" : \"green\",\n",
        "    \"roses\": \"red\", \n",
        "    \"ocean\": \"blue\"\n",
        "}\n",
        "print(object_colors)\n",
        "\n",
        "\n",
        "\n",
        "# Similarly to lists, whenever we want to index or modify a dictionary, we use\n",
        "# square-bracket notation with the exception that in dictionaries, instead of\n",
        "# providing the position of the item, we pass in the key of the item, e.g.:\n",
        "print(object_colors[\"tree\"])\n",
        "object_colors[\"roses\"] = \"white\"\n",
        "print(object_colors)\n",
        "\n",
        "\n",
        "\n",
        "# We can add new items to a dicitionary simply by providing a key using the \n",
        "# square-bracket notation and providing a value for that key\n",
        "object_colors[\"sun\"] = \"yellow\"\n",
        "print(object_colors)"
      ],
      "execution_count": null,
      "outputs": [
        {
          "output_type": "stream",
          "text": [
            "{'tree': 'green', 'roses': 'red', 'ocean': 'blue'}\n",
            "green\n",
            "{'tree': 'green', 'roses': 'white', 'ocean': 'blue'}\n",
            "{'tree': 'green', 'roses': 'white', 'ocean': 'blue', 'sun': 'yellow'}\n"
          ],
          "name": "stdout"
        }
      ]
    },
    {
      "cell_type": "markdown",
      "metadata": {
        "id": "HzeV3Uc3STUj"
      },
      "source": [
        "### Arithmetic operations\n",
        "One of the main uses for programming languages are their ability to perform calculations. These calculations are done by using arithmetic operations. Python supports a multitude of arithmetic operations, from addition and subtraction, to exponentiation. Now let's look at some of the arithmetic operations:"
      ]
    },
    {
      "cell_type": "code",
      "metadata": {
        "id": "RsQAGZGOf0IF"
      },
      "source": [
        "print(2 + 5)    # Addition\n",
        "print(3 - 1)    # Subtraction\n",
        "print(7 * 7)    # Multiplication\n",
        "print(64 / 8)   # Division\n",
        "print(2 ** 10)  # Exponentiation 2^10\n",
        "print(55 // 8)  # Long division (returns the quotient of the division)\n",
        "print(55 % 8)  # Modulo (returns the remainder of the division)\n",
        "\n",
        "\n",
        "# We can also perform arithmetic operations on variables\n",
        "print()\n",
        "print(\"Arithmetic operations on variables:\")\n",
        "\n",
        "a = 3\n",
        "b = 9\n",
        "print(a + b)\n",
        "\n",
        "# NOTE: Python follow the order of operation as a normal mathematical opertaion\n",
        "# would, so 2 * 3 + 4 = 10 which is not equivalent to 2 * (3 + 4) = 14"
      ],
      "execution_count": null,
      "outputs": []
    },
    {
      "cell_type": "markdown",
      "metadata": {
        "id": "Yx7a_bylSQ4S"
      },
      "source": [
        "### Conditional operators\n",
        "Alongside arithmethic operators, Python counts with conditional operators which allow us to evaludate conditional operations, that is, compare values of two items or variables."
      ]
    },
    {
      "cell_type": "code",
      "metadata": {
        "colab": {
          "base_uri": "https://localhost:8080/"
        },
        "id": "BaszJrZTfwV_",
        "outputId": "4ddcad8c-06b6-4ef6-ddbe-9c601ff2e9fd"
      },
      "source": [
        "a = True\n",
        "b = False\n",
        "num_1 = 1 \n",
        "num_2 = 2\n",
        "\n",
        "print(\"Boolean conditional operations:\")\n",
        "print(a == b)         # a equals b\n",
        "print(a != b)         # a NOT equals b\n",
        "print(a and b)        # a AND b are true\n",
        "print(a or b)         # a OR b is true\n",
        "print(not a)          # negate the truth value of a\n",
        "\n",
        "print()\n",
        "print(\"Numeric conditional operations:\")\n",
        "print(num_1 == num_2) # num_1 equals num_2\n",
        "print(num_1 != num_2) # num_1 not equals num_2\n",
        "print(num_1 < num_2)  # num_1 is less than num_2\n",
        "print(num_1 <= num_2) # num_1 is less than or equal to num_2\n",
        "print(num_1 > num_2)  # num_1 is greater than num_2\n",
        "print(num_1 >= num_2) # num_1 is greater than or equal to num_2\n",
        "\n",
        "# These operations can be combined to create"
      ],
      "execution_count": null,
      "outputs": [
        {
          "output_type": "stream",
          "text": [
            "Boolean conditional operations:\n",
            "False\n",
            "True\n",
            "False\n",
            "True\n",
            "False\n",
            "\n",
            "Numeric conditional operations:\n",
            "False\n",
            "True\n",
            "True\n",
            "True\n",
            "False\n",
            "False\n"
          ],
          "name": "stdout"
        }
      ]
    },
    {
      "cell_type": "markdown",
      "metadata": {
        "id": "x1HExviPV5FE"
      },
      "source": [
        "### Conditional Clauses\n",
        "Now that we know the basics of storing and retreiving variables, as well as how to perform arithmetic operations, let's look at how to control the flow of execution of our code. We can do this through the use of conditional clauses (if, elif, else). These allow us to set conditions on our code, which execute certain pieces of code if the condition is met. "
      ]
    },
    {
      "cell_type": "code",
      "metadata": {
        "colab": {
          "base_uri": "https://localhost:8080/"
        },
        "id": "qivqn1ORV4KM",
        "outputId": "cce6e7e8-5639-47c2-c8cb-2b9ef6100cba"
      },
      "source": [
        "# Experiment changing a's value to see what parts of the conditional clause gets\n",
        "# executed\n",
        "a = 3\n",
        "\n",
        "if a < 4:\n",
        "  print(\"a is less than 4\")\n",
        "elif a > 10:\n",
        "  print(\"a is greater than 10\")\n",
        "else:\n",
        "  print(\"a is between 4 and 10 (not inclusive)\")\n",
        "\n"
      ],
      "execution_count": null,
      "outputs": [
        {
          "output_type": "stream",
          "text": [
            "a is less than 4\n"
          ],
          "name": "stdout"
        }
      ]
    },
    {
      "cell_type": "markdown",
      "metadata": {
        "id": "AO62BUQCRqfu"
      },
      "source": [
        "### Loops (for, while)\n",
        "There are certain parts of our code that we want to execute several times. To prevent repeating code, Python provides us with powerful tools called `loops`. Loops allows us to encapsulate our code and repeat it a certain number of times, or until a certain condition is met (much likes conditional clauses). In Python, there are two types of loops: *for loops* and *while loops*. `For` loops allow for code to be repeated a specific number of times, whereas `while` loops are runned until a condition is met. Now let's look at some examples of loops in Python:\n"
      ]
    },
    {
      "cell_type": "code",
      "metadata": {
        "colab": {
          "base_uri": "https://localhost:8080/"
        },
        "id": "b9V1th5NTSDH",
        "outputId": "6445476a-ea81-432e-a5b4-70d3fe962d41"
      },
      "source": [
        "# In Python, the range function takes in one or two numbers, \n",
        "# a lower limit (inclusive) and an upper limit (exclusive). This determines the\n",
        "# range for which the foor loop will be executed, i.e, from 0 to 10. \n",
        "# If the lower limit is not provided, then Python will asume the lower limit \n",
        "# to be 0.\n",
        "\n",
        "# We can construct a for loop in Python the following way:\n",
        "# for variable_name in iterator\n",
        "\n",
        "# Print the numbers from 1 to 10\n",
        "for i in range(1, 11):   \n",
        "  print(i)\n",
        "\n",
        "print()\n",
        "\n",
        "# Whenever we don't know how many times we need to run a loop, we can use a \n",
        "# while loop. While loops take in a condition and runs the loop while the \n",
        "# condition is met. \n",
        "a = input(\"Enter any key to stop the loop \")\n",
        "while a == \"\":\n",
        "  print(\"Running loop\")\n",
        "  a = input(\"Enter any key to stop the loop \")\n",
        "  print()"
      ],
      "execution_count": null,
      "outputs": [
        {
          "output_type": "stream",
          "text": [
            "1\n",
            "2\n",
            "3\n",
            "4\n",
            "5\n",
            "6\n",
            "7\n",
            "8\n",
            "9\n",
            "10\n",
            "\n",
            "Enter any key to stop the loop a\n"
          ],
          "name": "stdout"
        }
      ]
    },
    {
      "cell_type": "markdown",
      "metadata": {
        "id": "YaLRIyDk4iLX"
      },
      "source": [
        "### Functions/Methods\n",
        "\n",
        "Python functions provide an interface for users to encapsulate their code in a way that can be easily reused. This can result in more organized and clean code, which furthermore can lead to fewer bugs. Python functions can return one or more values that can be used by other variables or functions. To declare a function in Python, we use the `def` keyword followed by the function name and (optionally) the parameters that the function will use. For example:"
      ]
    },
    {
      "cell_type": "code",
      "metadata": {
        "colab": {
          "base_uri": "https://localhost:8080/"
        },
        "id": "esOvlk_V4hFe",
        "outputId": "5fcd2299-3215-4571-8747-203f39b87ec9"
      },
      "source": [
        "def print_square(x):\n",
        "  print(\"The square of\", x, \"is\", x**2)\n",
        "\n",
        "def square(x):\n",
        "  return x**2\n",
        "\n",
        "print_square(2)\n",
        "a = square(4)\n",
        "print(a)"
      ],
      "execution_count": 4,
      "outputs": [
        {
          "output_type": "stream",
          "text": [
            "The square of 2 is 4\n",
            "16\n"
          ],
          "name": "stdout"
        }
      ]
    },
    {
      "cell_type": "markdown",
      "metadata": {
        "id": "QhHwlSoJ4nW7"
      },
      "source": [
        "### Importing modules\n",
        "\n",
        "Python comes with already packaged pieces of code called modules. Furthermore, Python allows for users to download modules from external sources. Modules provide an easy interface for users to utilize pre-written functions and classes. To use modules, we use the `import` keyword and then write the name of the module."
      ]
    },
    {
      "cell_type": "code",
      "metadata": {
        "colab": {
          "base_uri": "https://localhost:8080/"
        },
        "id": "_1-zyTNQ4mpE",
        "outputId": "5fc3f8a7-23f0-4197-990d-640d2ba322d6"
      },
      "source": [
        "import math\n",
        "\n",
        "print(math.sqrt(9))     # Calculate the sqrt of 9 using the imported module\n",
        "print(math.ceil(3.2))   # Calculate the ceiling of 3.2using the imported module\n",
        "print(math.pow(5, 2))   # Calculate 5^2 using the imported module\n",
        "print()\n",
        "\n",
        "# We can also import specific functions from modules\n",
        "from math import sin, pi\n",
        "print(sin(pi/2))    # calculate the sine of π/2 using the imported sin function\n",
        "                    # from the math module\n",
        "print()\n",
        "\n",
        "# Additionally, we can give modules aliases using the 'as' keyword\n",
        "import numpy as np\n",
        "\n",
        "np.sum([2, 3])      # add a list of numbers"
      ],
      "execution_count": 8,
      "outputs": [
        {
          "output_type": "stream",
          "text": [
            "3.0\n",
            "4\n",
            "25.0\n",
            "\n",
            "1.0\n",
            "\n"
          ],
          "name": "stdout"
        },
        {
          "output_type": "execute_result",
          "data": {
            "text/plain": [
              "5"
            ]
          },
          "metadata": {
            "tags": []
          },
          "execution_count": 8
        }
      ]
    },
    {
      "cell_type": "markdown",
      "metadata": {
        "id": "1wWqaAqe-u_U"
      },
      "source": [
        "# Section 2: Python for Data Science\n"
      ]
    }
  ]
}