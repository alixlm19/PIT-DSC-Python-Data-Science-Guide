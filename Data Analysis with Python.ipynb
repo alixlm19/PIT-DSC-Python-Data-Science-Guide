{
 "metadata": {
  "language_info": {
   "codemirror_mode": {
    "name": "ipython",
    "version": 3
   },
   "file_extension": ".py",
   "mimetype": "text/x-python",
   "name": "python",
   "nbconvert_exporter": "python",
   "pygments_lexer": "ipython3",
   "version": "3.8.1-final"
  },
  "orig_nbformat": 2,
  "kernelspec": {
   "name": "python3",
   "display_name": "Python 3",
   "language": "python"
  }
 },
 "nbformat": 4,
 "nbformat_minor": 2,
 "cells": [
  {
   "cell_type": "code",
   "execution_count": 71,
   "metadata": {},
   "outputs": [],
   "source": [
    "\n",
    "import os\n",
    "import json\n",
    "import datetime\n",
    "import dateutil\n",
    "import requests\n",
    "import numpy as np \n",
    "import pandas as pd \n",
    "import matplotlib.pyplot as plt\n",
    "\n",
    "from bs4 import BeautifulSoup\n",
    "from dateutil.parser import parse\n",
    "from datetime import datetime, timedelta\n",
    "\n",
    "%matplotlib inline"
   ]
  },
  {
   "source": [
    "# I/O\n",
    "## Make a directory\n"
   ],
   "cell_type": "markdown",
   "metadata": {}
  },
  {
   "cell_type": "code",
   "execution_count": 4,
   "metadata": {},
   "outputs": [
    {
     "output_type": "stream",
     "name": "stdout",
     "text": [
      "'Data' directory already exists!\n"
     ]
    }
   ],
   "source": [
    "# Does the Data directory exist?\n",
    "if not os.path.exists(\"./Data\"):\n",
    "    os.mkdir(\"./Data\")\n",
    "    print(\"'Data' directory created!\")\n",
    "else:\n",
    "    print(\"'Data' directory already exists!\")\n"
   ]
  },
  {
   "source": [
    "Let's create a new pandas dataframe and store it in the 'Data' directory"
   ],
   "cell_type": "markdown",
   "metadata": {}
  },
  {
   "cell_type": "code",
   "execution_count": 5,
   "metadata": {},
   "outputs": [
    {
     "output_type": "execute_result",
     "data": {
      "text/plain": [
       "      Midterm Project Final LetterGrade\n",
       "Alex      100      80    95           A\n",
       "Bob        55      60    45           F\n",
       "Chris      70      75    90           A\n",
       "Doug       75      70    60           D\n",
       "Eva        60      73    75           C\n",
       "Frank      72      63    -1          NA"
      ],
      "text/html": "<div>\n<style scoped>\n    .dataframe tbody tr th:only-of-type {\n        vertical-align: middle;\n    }\n\n    .dataframe tbody tr th {\n        vertical-align: top;\n    }\n\n    .dataframe thead th {\n        text-align: right;\n    }\n</style>\n<table border=\"1\" class=\"dataframe\">\n  <thead>\n    <tr style=\"text-align: right;\">\n      <th></th>\n      <th>Midterm</th>\n      <th>Project</th>\n      <th>Final</th>\n      <th>LetterGrade</th>\n    </tr>\n  </thead>\n  <tbody>\n    <tr>\n      <th>Alex</th>\n      <td>100</td>\n      <td>80</td>\n      <td>95</td>\n      <td>A</td>\n    </tr>\n    <tr>\n      <th>Bob</th>\n      <td>55</td>\n      <td>60</td>\n      <td>45</td>\n      <td>F</td>\n    </tr>\n    <tr>\n      <th>Chris</th>\n      <td>70</td>\n      <td>75</td>\n      <td>90</td>\n      <td>A</td>\n    </tr>\n    <tr>\n      <th>Doug</th>\n      <td>75</td>\n      <td>70</td>\n      <td>60</td>\n      <td>D</td>\n    </tr>\n    <tr>\n      <th>Eva</th>\n      <td>60</td>\n      <td>73</td>\n      <td>75</td>\n      <td>C</td>\n    </tr>\n    <tr>\n      <th>Frank</th>\n      <td>72</td>\n      <td>63</td>\n      <td>-1</td>\n      <td>NA</td>\n    </tr>\n  </tbody>\n</table>\n</div>"
     },
     "metadata": {},
     "execution_count": 5
    }
   ],
   "source": [
    "values = np.array([\n",
    "    [100, 80, 95, 'A'],\n",
    "    [55, 60, 45, 'F'],\n",
    "    [70, 75, 90, 'A'],\n",
    "    [75, 70, 60, 'D'],\n",
    "    [60, 73, 75, 'C'],\n",
    "    [72, 63, -1, 'NA']\n",
    "])\n",
    "df = pd.DataFrame(values,\n",
    "                   columns=['Midterm', 'Project', 'Final', 'LetterGrade'],\n",
    "                   index=['Alex', 'Bob', 'Chris', 'Doug', 'Eva', \"Frank\"])\n",
    "df"
   ]
  },
  {
   "cell_type": "code",
   "execution_count": 6,
   "metadata": {},
   "outputs": [
    {
     "output_type": "stream",
     "name": "stdout",
     "text": [
      "'io_test.csv' already exists!\n"
     ]
    }
   ],
   "source": [
    "# Does the file exist?\n",
    "if not os.path.exists(\"Data/io_test.csv\"):\n",
    "    df.to_csv(\"Data/io_test.csv\")\n",
    "    print(\"'io_test.csv' created!\")\n",
    "else:\n",
    "    print(\"'io_test.csv' already exists!\")"
   ]
  },
  {
   "source": [
    "Now let's load the dataframe"
   ],
   "cell_type": "markdown",
   "metadata": {}
  },
  {
   "cell_type": "code",
   "execution_count": 7,
   "metadata": {},
   "outputs": [],
   "source": [
    "df2 = pd.read_csv(\"Data/io_test.csv\", sep=\",\")"
   ]
  },
  {
   "source": [
    "There are some arguments that can be passed to `read_csv`:\n",
    "\n",
    "- **nrows** `int`: number of rows to be loaded.\n",
    "- **skiprows** `[int]` : index of rows to be skipped.\n",
    "- **names** : `[str]` : specify the column names for the dataframe.\n",
    "- **index_col** `int` : index of the column in the dataframe to be treated as the index column.\n",
    "- **sep** `str` : dataframe delimiter (_alias_ : _delimeter_). This column accepts literal characters or regular expressions.\n"
   ],
   "cell_type": "markdown",
   "metadata": {}
  },
  {
   "source": [
    "### Load JSON files"
   ],
   "cell_type": "markdown",
   "metadata": {}
  },
  {
   "cell_type": "code",
   "execution_count": 8,
   "metadata": {},
   "outputs": [],
   "source": [
    "# JSON string \n",
    "obj = \"\"\"\n",
    "{\"name\": \"Wes\",\n",
    " \"places_lived\": [\"United States\", \"Spain\", \"Germany\"],\n",
    " \"pet\": null,\n",
    " \"siblings\": [{\"name\": \"Scott\", \"age\": 30, \"pets\": [\"Zeus\", \"Zuko\"]},\n",
    "              {\"name\": \"Katie\", \"age\": 38,\n",
    "               \"pets\": [\"Sixes\", \"Stache\", \"Cisco\"]}]\n",
    "}\n",
    "\"\"\""
   ]
  },
  {
   "cell_type": "code",
   "execution_count": 9,
   "metadata": {},
   "outputs": [
    {
     "output_type": "execute_result",
     "data": {
      "text/plain": [
       "{'name': 'Wes',\n",
       " 'places_lived': ['United States', 'Spain', 'Germany'],\n",
       " 'pet': None,\n",
       " 'siblings': [{'name': 'Scott', 'age': 30, 'pets': ['Zeus', 'Zuko']},\n",
       "  {'name': 'Katie', 'age': 38, 'pets': ['Sixes', 'Stache', 'Cisco']}]}"
      ]
     },
     "metadata": {},
     "execution_count": 9
    }
   ],
   "source": [
    "result = json.loads(obj)\n",
    "result"
   ]
  },
  {
   "source": [
    "### Convert a python object into a JSON object "
   ],
   "cell_type": "markdown",
   "metadata": {}
  },
  {
   "cell_type": "code",
   "execution_count": 10,
   "metadata": {},
   "outputs": [
    {
     "output_type": "execute_result",
     "data": {
      "text/plain": [
       "'{\"name\": \"Wes\", \"places_lived\": [\"United States\", \"Spain\", \"Germany\"], \"pet\": null, \"siblings\": [{\"name\": \"Scott\", \"age\": 30, \"pets\": [\"Zeus\", \"Zuko\"]}, {\"name\": \"Katie\", \"age\": 38, \"pets\": [\"Sixes\", \"Stache\", \"Cisco\"]}]}'"
      ]
     },
     "metadata": {},
     "execution_count": 10
    }
   ],
   "source": [
    "asjson = json.dumps(result)\n",
    "asjson"
   ]
  },
  {
   "cell_type": "code",
   "execution_count": 11,
   "metadata": {},
   "outputs": [],
   "source": [
    "# Use json.dump(object, file) to write the content to file\n",
    "\n",
    "# This is called a context manager\n",
    "with open(\"Data/People.json\", 'w') as file:\n",
    "    json.dump(result, file)"
   ]
  },
  {
   "cell_type": "code",
   "execution_count": 12,
   "metadata": {},
   "outputs": [
    {
     "output_type": "execute_result",
     "data": {
      "text/plain": [
       "{'name': 'Wes',\n",
       " 'places_lived': ['United States', 'Spain', 'Germany'],\n",
       " 'pet': None,\n",
       " 'siblings': [{'name': 'Scott', 'age': 30, 'pets': ['Zeus', 'Zuko']},\n",
       "  {'name': 'Katie', 'age': 38, 'pets': ['Sixes', 'Stache', 'Cisco']}]}"
      ]
     },
     "metadata": {},
     "execution_count": 12
    }
   ],
   "source": [
    "# Load from People.json\n",
    "with open(\"Data/People.json\", \"r\") as file:\n",
    "    people = json.load(file)\n",
    "people"
   ]
  },
  {
   "source": [
    "### Load JSON content into a pandas Dataframe"
   ],
   "cell_type": "markdown",
   "metadata": {}
  },
  {
   "cell_type": "code",
   "execution_count": 13,
   "metadata": {},
   "outputs": [
    {
     "output_type": "execute_result",
     "data": {
      "text/plain": [
       "    name  age                    pets\n",
       "0  Scott   30            [Zeus, Zuko]\n",
       "1  Katie   38  [Sixes, Stache, Cisco]"
      ],
      "text/html": "<div>\n<style scoped>\n    .dataframe tbody tr th:only-of-type {\n        vertical-align: middle;\n    }\n\n    .dataframe tbody tr th {\n        vertical-align: top;\n    }\n\n    .dataframe thead th {\n        text-align: right;\n    }\n</style>\n<table border=\"1\" class=\"dataframe\">\n  <thead>\n    <tr style=\"text-align: right;\">\n      <th></th>\n      <th>name</th>\n      <th>age</th>\n      <th>pets</th>\n    </tr>\n  </thead>\n  <tbody>\n    <tr>\n      <th>0</th>\n      <td>Scott</td>\n      <td>30</td>\n      <td>[Zeus, Zuko]</td>\n    </tr>\n    <tr>\n      <th>1</th>\n      <td>Katie</td>\n      <td>38</td>\n      <td>[Sixes, Stache, Cisco]</td>\n    </tr>\n  </tbody>\n</table>\n</div>"
     },
     "metadata": {},
     "execution_count": 13
    }
   ],
   "source": [
    "# Load the content as a data frame\n",
    "siblings = pd.DataFrame(result['siblings'], columns=['name', 'age', 'pets'])\n",
    "siblings"
   ]
  },
  {
   "source": [
    "# Data Transformations"
   ],
   "cell_type": "markdown",
   "metadata": {}
  },
  {
   "cell_type": "code",
   "execution_count": 14,
   "metadata": {},
   "outputs": [
    {
     "output_type": "execute_result",
     "data": {
      "text/plain": [
       "    k1  k2\n",
       "0  one   1\n",
       "1  two   1\n",
       "2  one   2\n",
       "3  two   3\n",
       "4  one   3\n",
       "5  two   4\n",
       "6  two   4"
      ],
      "text/html": "<div>\n<style scoped>\n    .dataframe tbody tr th:only-of-type {\n        vertical-align: middle;\n    }\n\n    .dataframe tbody tr th {\n        vertical-align: top;\n    }\n\n    .dataframe thead th {\n        text-align: right;\n    }\n</style>\n<table border=\"1\" class=\"dataframe\">\n  <thead>\n    <tr style=\"text-align: right;\">\n      <th></th>\n      <th>k1</th>\n      <th>k2</th>\n    </tr>\n  </thead>\n  <tbody>\n    <tr>\n      <th>0</th>\n      <td>one</td>\n      <td>1</td>\n    </tr>\n    <tr>\n      <th>1</th>\n      <td>two</td>\n      <td>1</td>\n    </tr>\n    <tr>\n      <th>2</th>\n      <td>one</td>\n      <td>2</td>\n    </tr>\n    <tr>\n      <th>3</th>\n      <td>two</td>\n      <td>3</td>\n    </tr>\n    <tr>\n      <th>4</th>\n      <td>one</td>\n      <td>3</td>\n    </tr>\n    <tr>\n      <th>5</th>\n      <td>two</td>\n      <td>4</td>\n    </tr>\n    <tr>\n      <th>6</th>\n      <td>two</td>\n      <td>4</td>\n    </tr>\n  </tbody>\n</table>\n</div>"
     },
     "metadata": {},
     "execution_count": 14
    }
   ],
   "source": [
    "# Let's create a dataframe with duplicate data\n",
    "data = pd.DataFrame({'k1': ['one', 'two'] * 3 + ['two'],\n",
    "                     'k2': [1, 1, 2, 3, 3, 4, 4]})\n",
    "data"
   ]
  },
  {
   "cell_type": "code",
   "execution_count": 15,
   "metadata": {},
   "outputs": [
    {
     "output_type": "execute_result",
     "data": {
      "text/plain": [
       "0    False\n",
       "1    False\n",
       "2    False\n",
       "3    False\n",
       "4    False\n",
       "5    False\n",
       "6     True\n",
       "dtype: bool"
      ]
     },
     "metadata": {},
     "execution_count": 15
    }
   ],
   "source": [
    "# Identify duplicated rows\n",
    "data.duplicated()"
   ]
  },
  {
   "cell_type": "code",
   "execution_count": 16,
   "metadata": {},
   "outputs": [
    {
     "output_type": "execute_result",
     "data": {
      "text/plain": [
       "    k1  k2\n",
       "0  one   1\n",
       "1  two   1\n",
       "2  one   2\n",
       "3  two   3\n",
       "4  one   3\n",
       "5  two   4"
      ],
      "text/html": "<div>\n<style scoped>\n    .dataframe tbody tr th:only-of-type {\n        vertical-align: middle;\n    }\n\n    .dataframe tbody tr th {\n        vertical-align: top;\n    }\n\n    .dataframe thead th {\n        text-align: right;\n    }\n</style>\n<table border=\"1\" class=\"dataframe\">\n  <thead>\n    <tr style=\"text-align: right;\">\n      <th></th>\n      <th>k1</th>\n      <th>k2</th>\n    </tr>\n  </thead>\n  <tbody>\n    <tr>\n      <th>0</th>\n      <td>one</td>\n      <td>1</td>\n    </tr>\n    <tr>\n      <th>1</th>\n      <td>two</td>\n      <td>1</td>\n    </tr>\n    <tr>\n      <th>2</th>\n      <td>one</td>\n      <td>2</td>\n    </tr>\n    <tr>\n      <th>3</th>\n      <td>two</td>\n      <td>3</td>\n    </tr>\n    <tr>\n      <th>4</th>\n      <td>one</td>\n      <td>3</td>\n    </tr>\n    <tr>\n      <th>5</th>\n      <td>two</td>\n      <td>4</td>\n    </tr>\n  </tbody>\n</table>\n</div>"
     },
     "metadata": {},
     "execution_count": 16
    }
   ],
   "source": [
    "# Drop duplicated rows\n",
    "data.drop_duplicates()"
   ]
  },
  {
   "source": [
    "# Map one column to another and add it to the dataframe"
   ],
   "cell_type": "markdown",
   "metadata": {}
  },
  {
   "cell_type": "code",
   "execution_count": 17,
   "metadata": {},
   "outputs": [
    {
     "output_type": "execute_result",
     "data": {
      "text/plain": [
       "          food  ounces\n",
       "0        bacon     4.0\n",
       "1  pulled pork     3.0\n",
       "2        bacon    12.0\n",
       "3     Pastrami     6.0\n",
       "4  corned beef     7.5\n",
       "5        Bacon     8.0\n",
       "6     pastrami     3.0\n",
       "7    honey ham     5.0\n",
       "8     nova lox     6.0"
      ],
      "text/html": "<div>\n<style scoped>\n    .dataframe tbody tr th:only-of-type {\n        vertical-align: middle;\n    }\n\n    .dataframe tbody tr th {\n        vertical-align: top;\n    }\n\n    .dataframe thead th {\n        text-align: right;\n    }\n</style>\n<table border=\"1\" class=\"dataframe\">\n  <thead>\n    <tr style=\"text-align: right;\">\n      <th></th>\n      <th>food</th>\n      <th>ounces</th>\n    </tr>\n  </thead>\n  <tbody>\n    <tr>\n      <th>0</th>\n      <td>bacon</td>\n      <td>4.0</td>\n    </tr>\n    <tr>\n      <th>1</th>\n      <td>pulled pork</td>\n      <td>3.0</td>\n    </tr>\n    <tr>\n      <th>2</th>\n      <td>bacon</td>\n      <td>12.0</td>\n    </tr>\n    <tr>\n      <th>3</th>\n      <td>Pastrami</td>\n      <td>6.0</td>\n    </tr>\n    <tr>\n      <th>4</th>\n      <td>corned beef</td>\n      <td>7.5</td>\n    </tr>\n    <tr>\n      <th>5</th>\n      <td>Bacon</td>\n      <td>8.0</td>\n    </tr>\n    <tr>\n      <th>6</th>\n      <td>pastrami</td>\n      <td>3.0</td>\n    </tr>\n    <tr>\n      <th>7</th>\n      <td>honey ham</td>\n      <td>5.0</td>\n    </tr>\n    <tr>\n      <th>8</th>\n      <td>nova lox</td>\n      <td>6.0</td>\n    </tr>\n  </tbody>\n</table>\n</div>"
     },
     "metadata": {},
     "execution_count": 17
    }
   ],
   "source": [
    "data = pd.DataFrame({'food': ['bacon', 'pulled pork', 'bacon',\n",
    "                              'Pastrami', 'corned beef', 'Bacon',\n",
    "                              'pastrami', 'honey ham', 'nova lox'],\n",
    "                     'ounces': [4, 3, 12, 6, 7.5, 8, 3, 5, 6]})\n",
    "data"
   ]
  },
  {
   "cell_type": "code",
   "execution_count": 18,
   "metadata": {},
   "outputs": [],
   "source": [
    "# Suppose that we want to map the meat type to the kind of animal:\n",
    "meat_to_animal = {\n",
    "  'bacon': 'pig',\n",
    "  'pulled pork': 'pig',\n",
    "  'pastrami': 'cow',\n",
    "  'corned beef': 'cow',\n",
    "  'honey ham': 'pig',\n",
    "  'nova lox': 'salmon'\n",
    "}"
   ]
  },
  {
   "cell_type": "code",
   "execution_count": 19,
   "metadata": {},
   "outputs": [
    {
     "output_type": "execute_result",
     "data": {
      "text/plain": [
       "          food  ounces  animal\n",
       "0        bacon     4.0     pig\n",
       "1  pulled pork     3.0     pig\n",
       "2        bacon    12.0     pig\n",
       "3     Pastrami     6.0     cow\n",
       "4  corned beef     7.5     cow\n",
       "5        Bacon     8.0     pig\n",
       "6     pastrami     3.0     cow\n",
       "7    honey ham     5.0     pig\n",
       "8     nova lox     6.0  salmon"
      ],
      "text/html": "<div>\n<style scoped>\n    .dataframe tbody tr th:only-of-type {\n        vertical-align: middle;\n    }\n\n    .dataframe tbody tr th {\n        vertical-align: top;\n    }\n\n    .dataframe thead th {\n        text-align: right;\n    }\n</style>\n<table border=\"1\" class=\"dataframe\">\n  <thead>\n    <tr style=\"text-align: right;\">\n      <th></th>\n      <th>food</th>\n      <th>ounces</th>\n      <th>animal</th>\n    </tr>\n  </thead>\n  <tbody>\n    <tr>\n      <th>0</th>\n      <td>bacon</td>\n      <td>4.0</td>\n      <td>pig</td>\n    </tr>\n    <tr>\n      <th>1</th>\n      <td>pulled pork</td>\n      <td>3.0</td>\n      <td>pig</td>\n    </tr>\n    <tr>\n      <th>2</th>\n      <td>bacon</td>\n      <td>12.0</td>\n      <td>pig</td>\n    </tr>\n    <tr>\n      <th>3</th>\n      <td>Pastrami</td>\n      <td>6.0</td>\n      <td>cow</td>\n    </tr>\n    <tr>\n      <th>4</th>\n      <td>corned beef</td>\n      <td>7.5</td>\n      <td>cow</td>\n    </tr>\n    <tr>\n      <th>5</th>\n      <td>Bacon</td>\n      <td>8.0</td>\n      <td>pig</td>\n    </tr>\n    <tr>\n      <th>6</th>\n      <td>pastrami</td>\n      <td>3.0</td>\n      <td>cow</td>\n    </tr>\n    <tr>\n      <th>7</th>\n      <td>honey ham</td>\n      <td>5.0</td>\n      <td>pig</td>\n    </tr>\n    <tr>\n      <th>8</th>\n      <td>nova lox</td>\n      <td>6.0</td>\n      <td>salmon</td>\n    </tr>\n  </tbody>\n</table>\n</div>"
     },
     "metadata": {},
     "execution_count": 19
    }
   ],
   "source": [
    "# To make matching simpler, change strings to lowercase first\n",
    "lowercased = data['food'].str.lower()\n",
    "# lowercased\n",
    "data['animal'] = lowercased.map(meat_to_animal)\n",
    "data"
   ]
  },
  {
   "source": [
    "# Join and Combine"
   ],
   "cell_type": "markdown",
   "metadata": {}
  },
  {
   "cell_type": "code",
   "execution_count": 20,
   "metadata": {},
   "outputs": [
    {
     "output_type": "execute_result",
     "data": {
      "text/plain": [
       "    Name  Hw1  Hw2\n",
       "0  Alice  100   60\n",
       "1    Bob   90   70\n",
       "2  Clare   80   80\n",
       "3  David   70   90"
      ],
      "text/html": "<div>\n<style scoped>\n    .dataframe tbody tr th:only-of-type {\n        vertical-align: middle;\n    }\n\n    .dataframe tbody tr th {\n        vertical-align: top;\n    }\n\n    .dataframe thead th {\n        text-align: right;\n    }\n</style>\n<table border=\"1\" class=\"dataframe\">\n  <thead>\n    <tr style=\"text-align: right;\">\n      <th></th>\n      <th>Name</th>\n      <th>Hw1</th>\n      <th>Hw2</th>\n    </tr>\n  </thead>\n  <tbody>\n    <tr>\n      <th>0</th>\n      <td>Alice</td>\n      <td>100</td>\n      <td>60</td>\n    </tr>\n    <tr>\n      <th>1</th>\n      <td>Bob</td>\n      <td>90</td>\n      <td>70</td>\n    </tr>\n    <tr>\n      <th>2</th>\n      <td>Clare</td>\n      <td>80</td>\n      <td>80</td>\n    </tr>\n    <tr>\n      <th>3</th>\n      <td>David</td>\n      <td>70</td>\n      <td>90</td>\n    </tr>\n  </tbody>\n</table>\n</div>"
     },
     "metadata": {},
     "execution_count": 20
    }
   ],
   "source": [
    "homework = pd.DataFrame({\n",
    "    'Name': ['Alice', 'Bob', 'Clare', 'David'],\n",
    "    'Hw1': [100, 90, 80, 70],\n",
    "    'Hw2': [60, 70, 80, 90]\n",
    "})\n",
    "homework"
   ]
  },
  {
   "cell_type": "code",
   "execution_count": 21,
   "metadata": {},
   "outputs": [
    {
     "output_type": "execute_result",
     "data": {
      "text/plain": [
       "  Full Name  Midterm  Final\n",
       "0     Alice       70     85\n",
       "1       Bob       80     65\n",
       "2     Clare       90     75\n",
       "3       Eli      100     55"
      ],
      "text/html": "<div>\n<style scoped>\n    .dataframe tbody tr th:only-of-type {\n        vertical-align: middle;\n    }\n\n    .dataframe tbody tr th {\n        vertical-align: top;\n    }\n\n    .dataframe thead th {\n        text-align: right;\n    }\n</style>\n<table border=\"1\" class=\"dataframe\">\n  <thead>\n    <tr style=\"text-align: right;\">\n      <th></th>\n      <th>Full Name</th>\n      <th>Midterm</th>\n      <th>Final</th>\n    </tr>\n  </thead>\n  <tbody>\n    <tr>\n      <th>0</th>\n      <td>Alice</td>\n      <td>70</td>\n      <td>85</td>\n    </tr>\n    <tr>\n      <th>1</th>\n      <td>Bob</td>\n      <td>80</td>\n      <td>65</td>\n    </tr>\n    <tr>\n      <th>2</th>\n      <td>Clare</td>\n      <td>90</td>\n      <td>75</td>\n    </tr>\n    <tr>\n      <th>3</th>\n      <td>Eli</td>\n      <td>100</td>\n      <td>55</td>\n    </tr>\n  </tbody>\n</table>\n</div>"
     },
     "metadata": {},
     "execution_count": 21
    }
   ],
   "source": [
    "exam = pd.DataFrame({\n",
    "    \"Full Name\": ['Alice', 'Bob', 'Clare', 'Eli'],\n",
    "    \"Midterm\": [70, 80, 90, 100],\n",
    "    \"Final\": [85, 65, 75, 55]\n",
    "})\n",
    "exam"
   ]
  },
  {
   "cell_type": "code",
   "execution_count": 22,
   "metadata": {},
   "outputs": [
    {
     "output_type": "execute_result",
     "data": {
      "text/plain": [
       "    Name  Hw1  Hw2 Full Name  Midterm  Final\n",
       "0  Alice  100   60     Alice       70     85\n",
       "1    Bob   90   70       Bob       80     65\n",
       "2  Clare   80   80     Clare       90     75"
      ],
      "text/html": "<div>\n<style scoped>\n    .dataframe tbody tr th:only-of-type {\n        vertical-align: middle;\n    }\n\n    .dataframe tbody tr th {\n        vertical-align: top;\n    }\n\n    .dataframe thead th {\n        text-align: right;\n    }\n</style>\n<table border=\"1\" class=\"dataframe\">\n  <thead>\n    <tr style=\"text-align: right;\">\n      <th></th>\n      <th>Name</th>\n      <th>Hw1</th>\n      <th>Hw2</th>\n      <th>Full Name</th>\n      <th>Midterm</th>\n      <th>Final</th>\n    </tr>\n  </thead>\n  <tbody>\n    <tr>\n      <th>0</th>\n      <td>Alice</td>\n      <td>100</td>\n      <td>60</td>\n      <td>Alice</td>\n      <td>70</td>\n      <td>85</td>\n    </tr>\n    <tr>\n      <th>1</th>\n      <td>Bob</td>\n      <td>90</td>\n      <td>70</td>\n      <td>Bob</td>\n      <td>80</td>\n      <td>65</td>\n    </tr>\n    <tr>\n      <th>2</th>\n      <td>Clare</td>\n      <td>80</td>\n      <td>80</td>\n      <td>Clare</td>\n      <td>90</td>\n      <td>75</td>\n    </tr>\n  </tbody>\n</table>\n</div>"
     },
     "metadata": {},
     "execution_count": 22
    }
   ],
   "source": [
    "# Default merge will drop values that cannot find a match\n",
    "pd.merge(homework, exam,\n",
    "         left_on=\"Name\",\n",
    "         right_on=\"Full Name\")"
   ]
  },
  {
   "source": [
    "The `left_on` and `right_on` arguments specify which columns should pandas use to merge the dataframes. For instance, in the above cell we have `left_on=\"Name\"` and `right_on=\"Full Name\"`. This means that pandas will use the _\"Name\"_ column from the `homework` dataframe, and the _\"Full Name\"_ columns from the `exam` dataframe.\n",
    "\n",
    "**Note:** `left_on` and `right_on` can take either a `str` or `[str]` \n"
   ],
   "cell_type": "markdown",
   "metadata": {}
  },
  {
   "cell_type": "code",
   "execution_count": 23,
   "metadata": {},
   "outputs": [
    {
     "output_type": "execute_result",
     "data": {
      "text/plain": [
       "    Name    Hw1   Hw2 Full Name  Midterm  Final\n",
       "0  Alice  100.0  60.0     Alice     70.0   85.0\n",
       "1    Bob   90.0  70.0       Bob     80.0   65.0\n",
       "2  Clare   80.0  80.0     Clare     90.0   75.0\n",
       "3  David   70.0  90.0       NaN      NaN    NaN\n",
       "4    NaN    NaN   NaN       Eli    100.0   55.0"
      ],
      "text/html": "<div>\n<style scoped>\n    .dataframe tbody tr th:only-of-type {\n        vertical-align: middle;\n    }\n\n    .dataframe tbody tr th {\n        vertical-align: top;\n    }\n\n    .dataframe thead th {\n        text-align: right;\n    }\n</style>\n<table border=\"1\" class=\"dataframe\">\n  <thead>\n    <tr style=\"text-align: right;\">\n      <th></th>\n      <th>Name</th>\n      <th>Hw1</th>\n      <th>Hw2</th>\n      <th>Full Name</th>\n      <th>Midterm</th>\n      <th>Final</th>\n    </tr>\n  </thead>\n  <tbody>\n    <tr>\n      <th>0</th>\n      <td>Alice</td>\n      <td>100.0</td>\n      <td>60.0</td>\n      <td>Alice</td>\n      <td>70.0</td>\n      <td>85.0</td>\n    </tr>\n    <tr>\n      <th>1</th>\n      <td>Bob</td>\n      <td>90.0</td>\n      <td>70.0</td>\n      <td>Bob</td>\n      <td>80.0</td>\n      <td>65.0</td>\n    </tr>\n    <tr>\n      <th>2</th>\n      <td>Clare</td>\n      <td>80.0</td>\n      <td>80.0</td>\n      <td>Clare</td>\n      <td>90.0</td>\n      <td>75.0</td>\n    </tr>\n    <tr>\n      <th>3</th>\n      <td>David</td>\n      <td>70.0</td>\n      <td>90.0</td>\n      <td>NaN</td>\n      <td>NaN</td>\n      <td>NaN</td>\n    </tr>\n    <tr>\n      <th>4</th>\n      <td>NaN</td>\n      <td>NaN</td>\n      <td>NaN</td>\n      <td>Eli</td>\n      <td>100.0</td>\n      <td>55.0</td>\n    </tr>\n  </tbody>\n</table>\n</div>"
     },
     "metadata": {},
     "execution_count": 23
    }
   ],
   "source": [
    "pd.merge(homework, exam, left_on=\"Name\", right_on=\"Full Name\",\n",
    "         how='outer')"
   ]
  },
  {
   "source": [
    "The `how` arguments specifies how pandas should merge the passed dataframes. Here are the types of merges:\n",
    "\n",
    "- `inner`: Use only the keys combinations observed in both tables\n",
    "- `outer`: Use all possible keys combinations\n",
    "- `left:` Use all keys found in the first data frame\n",
    "- `right:`Use all keys found in the second data frame\n",
    "\n",
    "`Use this image as a reference`\n",
    "![types of join](https://www.datasciencemadesimple.com/wp-content/uploads/2017/09/join-or-merge-in-python-pandas-1.png)"
   ],
   "cell_type": "markdown",
   "metadata": {}
  },
  {
   "cell_type": "code",
   "execution_count": 24,
   "metadata": {},
   "outputs": [
    {
     "output_type": "execute_result",
     "data": {
      "text/plain": [
       "    Semester   Name  Hw1  Hw2\n",
       "0  Fall 2018  Alice   50   60\n",
       "1  Fall 2018    Bob   90   70\n",
       "2  Fall 2019  Clare   80   80\n",
       "3  Fall 2019  Alice   70   90"
      ],
      "text/html": "<div>\n<style scoped>\n    .dataframe tbody tr th:only-of-type {\n        vertical-align: middle;\n    }\n\n    .dataframe tbody tr th {\n        vertical-align: top;\n    }\n\n    .dataframe thead th {\n        text-align: right;\n    }\n</style>\n<table border=\"1\" class=\"dataframe\">\n  <thead>\n    <tr style=\"text-align: right;\">\n      <th></th>\n      <th>Semester</th>\n      <th>Name</th>\n      <th>Hw1</th>\n      <th>Hw2</th>\n    </tr>\n  </thead>\n  <tbody>\n    <tr>\n      <th>0</th>\n      <td>Fall 2018</td>\n      <td>Alice</td>\n      <td>50</td>\n      <td>60</td>\n    </tr>\n    <tr>\n      <th>1</th>\n      <td>Fall 2018</td>\n      <td>Bob</td>\n      <td>90</td>\n      <td>70</td>\n    </tr>\n    <tr>\n      <th>2</th>\n      <td>Fall 2019</td>\n      <td>Clare</td>\n      <td>80</td>\n      <td>80</td>\n    </tr>\n    <tr>\n      <th>3</th>\n      <td>Fall 2019</td>\n      <td>Alice</td>\n      <td>70</td>\n      <td>90</td>\n    </tr>\n  </tbody>\n</table>\n</div>"
     },
     "metadata": {},
     "execution_count": 24
    }
   ],
   "source": [
    "homework = pd.DataFrame({\n",
    "    'Semester': ['Fall 2018', 'Fall 2018', 'Fall 2019', 'Fall 2019'],\n",
    "    'Name': ['Alice', 'Bob', 'Clare', 'Alice'],\n",
    "    'Hw1': [50, 90, 80, 70],\n",
    "    'Hw2': [60, 70, 80, 90]\n",
    "})\n",
    "homework"
   ]
  },
  {
   "cell_type": "code",
   "execution_count": 25,
   "metadata": {},
   "outputs": [
    {
     "output_type": "execute_result",
     "data": {
      "text/plain": [
       "        When   Name  Midterm  Final\n",
       "0  Fall 2018  Alice       60     45\n",
       "1  Fall 2018    Bob       80     65\n",
       "2  Fall 2019  Clare       90     75\n",
       "3  Fall 2019  Alice      100     55"
      ],
      "text/html": "<div>\n<style scoped>\n    .dataframe tbody tr th:only-of-type {\n        vertical-align: middle;\n    }\n\n    .dataframe tbody tr th {\n        vertical-align: top;\n    }\n\n    .dataframe thead th {\n        text-align: right;\n    }\n</style>\n<table border=\"1\" class=\"dataframe\">\n  <thead>\n    <tr style=\"text-align: right;\">\n      <th></th>\n      <th>When</th>\n      <th>Name</th>\n      <th>Midterm</th>\n      <th>Final</th>\n    </tr>\n  </thead>\n  <tbody>\n    <tr>\n      <th>0</th>\n      <td>Fall 2018</td>\n      <td>Alice</td>\n      <td>60</td>\n      <td>45</td>\n    </tr>\n    <tr>\n      <th>1</th>\n      <td>Fall 2018</td>\n      <td>Bob</td>\n      <td>80</td>\n      <td>65</td>\n    </tr>\n    <tr>\n      <th>2</th>\n      <td>Fall 2019</td>\n      <td>Clare</td>\n      <td>90</td>\n      <td>75</td>\n    </tr>\n    <tr>\n      <th>3</th>\n      <td>Fall 2019</td>\n      <td>Alice</td>\n      <td>100</td>\n      <td>55</td>\n    </tr>\n  </tbody>\n</table>\n</div>"
     },
     "metadata": {},
     "execution_count": 25
    }
   ],
   "source": [
    "exam = pd.DataFrame({\n",
    "    'When': ['Fall 2018', 'Fall 2018', 'Fall 2019', 'Fall 2019'],\n",
    "    \"Name\": ['Alice', 'Bob', 'Clare', 'Alice'],\n",
    "    \"Midterm\": [60, 80, 90, 100],\n",
    "    \"Final\": [45, 65, 75, 55]\n",
    "})\n",
    "exam"
   ]
  },
  {
   "cell_type": "code",
   "execution_count": 26,
   "metadata": {},
   "outputs": [
    {
     "output_type": "execute_result",
     "data": {
      "text/plain": [
       "    Semester   Name  Hw1  Hw2       When  Midterm  Final\n",
       "0  Fall 2018  Alice   50   60  Fall 2018       60     45\n",
       "1  Fall 2018  Alice   50   60  Fall 2019      100     55\n",
       "2  Fall 2019  Alice   70   90  Fall 2018       60     45\n",
       "3  Fall 2019  Alice   70   90  Fall 2019      100     55\n",
       "4  Fall 2018    Bob   90   70  Fall 2018       80     65\n",
       "5  Fall 2019  Clare   80   80  Fall 2019       90     75"
      ],
      "text/html": "<div>\n<style scoped>\n    .dataframe tbody tr th:only-of-type {\n        vertical-align: middle;\n    }\n\n    .dataframe tbody tr th {\n        vertical-align: top;\n    }\n\n    .dataframe thead th {\n        text-align: right;\n    }\n</style>\n<table border=\"1\" class=\"dataframe\">\n  <thead>\n    <tr style=\"text-align: right;\">\n      <th></th>\n      <th>Semester</th>\n      <th>Name</th>\n      <th>Hw1</th>\n      <th>Hw2</th>\n      <th>When</th>\n      <th>Midterm</th>\n      <th>Final</th>\n    </tr>\n  </thead>\n  <tbody>\n    <tr>\n      <th>0</th>\n      <td>Fall 2018</td>\n      <td>Alice</td>\n      <td>50</td>\n      <td>60</td>\n      <td>Fall 2018</td>\n      <td>60</td>\n      <td>45</td>\n    </tr>\n    <tr>\n      <th>1</th>\n      <td>Fall 2018</td>\n      <td>Alice</td>\n      <td>50</td>\n      <td>60</td>\n      <td>Fall 2019</td>\n      <td>100</td>\n      <td>55</td>\n    </tr>\n    <tr>\n      <th>2</th>\n      <td>Fall 2019</td>\n      <td>Alice</td>\n      <td>70</td>\n      <td>90</td>\n      <td>Fall 2018</td>\n      <td>60</td>\n      <td>45</td>\n    </tr>\n    <tr>\n      <th>3</th>\n      <td>Fall 2019</td>\n      <td>Alice</td>\n      <td>70</td>\n      <td>90</td>\n      <td>Fall 2019</td>\n      <td>100</td>\n      <td>55</td>\n    </tr>\n    <tr>\n      <th>4</th>\n      <td>Fall 2018</td>\n      <td>Bob</td>\n      <td>90</td>\n      <td>70</td>\n      <td>Fall 2018</td>\n      <td>80</td>\n      <td>65</td>\n    </tr>\n    <tr>\n      <th>5</th>\n      <td>Fall 2019</td>\n      <td>Clare</td>\n      <td>80</td>\n      <td>80</td>\n      <td>Fall 2019</td>\n      <td>90</td>\n      <td>75</td>\n    </tr>\n  </tbody>\n</table>\n</div>"
     },
     "metadata": {},
     "execution_count": 26
    }
   ],
   "source": [
    "pd.merge(homework, exam, on='Name')"
   ]
  },
  {
   "source": [
    "In this case, since _homework_ and _exam_ both share multiple column with the same type, we can specify the column we want to use for the merge using the `on` argument.\n",
    "\n",
    "**Note:** `on` can take either a `str` or `[str]`"
   ],
   "cell_type": "markdown",
   "metadata": {}
  },
  {
   "cell_type": "code",
   "execution_count": 27,
   "metadata": {},
   "outputs": [
    {
     "output_type": "execute_result",
     "data": {
      "text/plain": [
       "    Semester   Name  Hw1  Hw2       When  Midterm  Final\n",
       "0  Fall 2018  Alice   50   60  Fall 2018       60     45\n",
       "1  Fall 2018  Alice   50   60  Fall 2019      100     55\n",
       "2  Fall 2019  Alice   70   90  Fall 2018       60     45\n",
       "3  Fall 2019  Alice   70   90  Fall 2019      100     55\n",
       "4  Fall 2018    Bob   90   70  Fall 2018       80     65\n",
       "5  Fall 2019  Clare   80   80  Fall 2019       90     75"
      ],
      "text/html": "<div>\n<style scoped>\n    .dataframe tbody tr th:only-of-type {\n        vertical-align: middle;\n    }\n\n    .dataframe tbody tr th {\n        vertical-align: top;\n    }\n\n    .dataframe thead th {\n        text-align: right;\n    }\n</style>\n<table border=\"1\" class=\"dataframe\">\n  <thead>\n    <tr style=\"text-align: right;\">\n      <th></th>\n      <th>Semester</th>\n      <th>Name</th>\n      <th>Hw1</th>\n      <th>Hw2</th>\n      <th>When</th>\n      <th>Midterm</th>\n      <th>Final</th>\n    </tr>\n  </thead>\n  <tbody>\n    <tr>\n      <th>0</th>\n      <td>Fall 2018</td>\n      <td>Alice</td>\n      <td>50</td>\n      <td>60</td>\n      <td>Fall 2018</td>\n      <td>60</td>\n      <td>45</td>\n    </tr>\n    <tr>\n      <th>1</th>\n      <td>Fall 2018</td>\n      <td>Alice</td>\n      <td>50</td>\n      <td>60</td>\n      <td>Fall 2019</td>\n      <td>100</td>\n      <td>55</td>\n    </tr>\n    <tr>\n      <th>2</th>\n      <td>Fall 2019</td>\n      <td>Alice</td>\n      <td>70</td>\n      <td>90</td>\n      <td>Fall 2018</td>\n      <td>60</td>\n      <td>45</td>\n    </tr>\n    <tr>\n      <th>3</th>\n      <td>Fall 2019</td>\n      <td>Alice</td>\n      <td>70</td>\n      <td>90</td>\n      <td>Fall 2019</td>\n      <td>100</td>\n      <td>55</td>\n    </tr>\n    <tr>\n      <th>4</th>\n      <td>Fall 2018</td>\n      <td>Bob</td>\n      <td>90</td>\n      <td>70</td>\n      <td>Fall 2018</td>\n      <td>80</td>\n      <td>65</td>\n    </tr>\n    <tr>\n      <th>5</th>\n      <td>Fall 2019</td>\n      <td>Clare</td>\n      <td>80</td>\n      <td>80</td>\n      <td>Fall 2019</td>\n      <td>90</td>\n      <td>75</td>\n    </tr>\n  </tbody>\n</table>\n</div>"
     },
     "metadata": {},
     "execution_count": 27
    }
   ],
   "source": [
    "pd.merge(homework, exam, on='Name', suffixes=('_hw', '_ex'), how='outer')"
   ]
  },
  {
   "source": [
    "**suffixes** `[str]` : appends a suffix to the columns used for the merge"
   ],
   "cell_type": "markdown",
   "metadata": {}
  },
  {
   "source": [
    "### Concatenating NumPy Arrays\n",
    "\n",
    "This is not very important, but I'll put it here anywys. \n",
    "\n",
    "- `np.arrange()` creates a numpy array of numbers. \n",
    "\n",
    "- `.reshape()` changes the structure (shape) of the numpy array \n",
    "\n",
    "- `np.vstack` concatenates two numpy arrays vertically.\n",
    "\n",
    "- `np.hstack` concatenates two numpy arrays horizontally."
   ],
   "cell_type": "markdown",
   "metadata": {}
  },
  {
   "cell_type": "code",
   "execution_count": 28,
   "metadata": {},
   "outputs": [
    {
     "output_type": "stream",
     "name": "stdout",
     "text": [
      "[[ 0  1  2  3]\n [ 4  5  6  7]\n [ 8  9 10 11]]\n"
     ]
    }
   ],
   "source": [
    "#np.arrange(end)\n",
    "arr1 = np.arange(12).reshape([3, 4])\n",
    "print(arr1)"
   ]
  },
  {
   "cell_type": "code",
   "execution_count": 29,
   "metadata": {},
   "outputs": [
    {
     "output_type": "stream",
     "name": "stdout",
     "text": [
      "[[10 20 30 40]\n [50 60 70 80]]\n"
     ]
    }
   ],
   "source": [
    "#np.arrange(start, end, step)\n",
    "\n",
    "arr2 = np.arange(10, 90, 10).reshape([2, 4])\n",
    "print(arr2)"
   ]
  },
  {
   "cell_type": "code",
   "execution_count": 30,
   "metadata": {},
   "outputs": [
    {
     "output_type": "stream",
     "name": "stdout",
     "text": [
      "[[ 0  1  2  3]\n [ 4  5  6  7]\n [ 8  9 10 11]\n [10 20 30 40]\n [50 60 70 80]]\n"
     ]
    }
   ],
   "source": [
    "print(np.vstack([arr1, arr2]))"
   ]
  },
  {
   "cell_type": "code",
   "execution_count": 31,
   "metadata": {},
   "outputs": [
    {
     "output_type": "stream",
     "name": "stdout",
     "text": [
      "[[100  90  80]\n",
      " [ 70  60  50]\n",
      " [ 40  30  20]]\n"
     ]
    }
   ],
   "source": [
    "arr3 = np.arange(100, 10, -10).reshape([3, 3])\n",
    "print(arr3)"
   ]
  },
  {
   "cell_type": "code",
   "execution_count": 32,
   "metadata": {},
   "outputs": [
    {
     "output_type": "stream",
     "name": "stdout",
     "text": [
      "[[  0   1   2   3 100  90  80]\n [  4   5   6   7  70  60  50]\n [  8   9  10  11  40  30  20]]\n"
     ]
    }
   ],
   "source": [
    "print(np.hstack([arr1, arr3]))"
   ]
  },
  {
   "source": [
    "### Concatenating Data Frames"
   ],
   "cell_type": "markdown",
   "metadata": {}
  },
  {
   "cell_type": "code",
   "execution_count": 33,
   "metadata": {},
   "outputs": [
    {
     "output_type": "execute_result",
     "data": {
      "text/plain": [
       "    Name  Homework  Exam\n",
       "0  Alice        60    65\n",
       "1    Bob        70    75\n",
       "2  Clare        80    85\n",
       "3  David        90    95"
      ],
      "text/html": "<div>\n<style scoped>\n    .dataframe tbody tr th:only-of-type {\n        vertical-align: middle;\n    }\n\n    .dataframe tbody tr th {\n        vertical-align: top;\n    }\n\n    .dataframe thead th {\n        text-align: right;\n    }\n</style>\n<table border=\"1\" class=\"dataframe\">\n  <thead>\n    <tr style=\"text-align: right;\">\n      <th></th>\n      <th>Name</th>\n      <th>Homework</th>\n      <th>Exam</th>\n    </tr>\n  </thead>\n  <tbody>\n    <tr>\n      <th>0</th>\n      <td>Alice</td>\n      <td>60</td>\n      <td>65</td>\n    </tr>\n    <tr>\n      <th>1</th>\n      <td>Bob</td>\n      <td>70</td>\n      <td>75</td>\n    </tr>\n    <tr>\n      <th>2</th>\n      <td>Clare</td>\n      <td>80</td>\n      <td>85</td>\n    </tr>\n    <tr>\n      <th>3</th>\n      <td>David</td>\n      <td>90</td>\n      <td>95</td>\n    </tr>\n  </tbody>\n</table>\n</div>"
     },
     "metadata": {},
     "execution_count": 33
    }
   ],
   "source": [
    "spring_records = pd.DataFrame({\n",
    "    'Name': ['Alice', 'Bob', 'Clare', 'David'],\n",
    "    'Homework': [60, 70, 80, 90],\n",
    "    'Exam': [65, 75, 85, 95]\n",
    "})\n",
    "spring_records"
   ]
  },
  {
   "cell_type": "code",
   "execution_count": 34,
   "metadata": {},
   "outputs": [
    {
     "output_type": "execute_result",
     "data": {
      "text/plain": [
       "      Name  Homework  Exam\n",
       "0    Alice        66    69\n",
       "1      Eva        77    79\n",
       "2     Fred        88    89\n",
       "3  Gabriel        99    99"
      ],
      "text/html": "<div>\n<style scoped>\n    .dataframe tbody tr th:only-of-type {\n        vertical-align: middle;\n    }\n\n    .dataframe tbody tr th {\n        vertical-align: top;\n    }\n\n    .dataframe thead th {\n        text-align: right;\n    }\n</style>\n<table border=\"1\" class=\"dataframe\">\n  <thead>\n    <tr style=\"text-align: right;\">\n      <th></th>\n      <th>Name</th>\n      <th>Homework</th>\n      <th>Exam</th>\n    </tr>\n  </thead>\n  <tbody>\n    <tr>\n      <th>0</th>\n      <td>Alice</td>\n      <td>66</td>\n      <td>69</td>\n    </tr>\n    <tr>\n      <th>1</th>\n      <td>Eva</td>\n      <td>77</td>\n      <td>79</td>\n    </tr>\n    <tr>\n      <th>2</th>\n      <td>Fred</td>\n      <td>88</td>\n      <td>89</td>\n    </tr>\n    <tr>\n      <th>3</th>\n      <td>Gabriel</td>\n      <td>99</td>\n      <td>99</td>\n    </tr>\n  </tbody>\n</table>\n</div>"
     },
     "metadata": {},
     "execution_count": 34
    }
   ],
   "source": [
    "fall_records = pd.DataFrame({\n",
    "    'Name': ['Alice', 'Eva', 'Fred', 'Gabriel'],\n",
    "    'Homework': [66, 77, 88, 99],\n",
    "    'Exam': [69, 79, 89, 99]\n",
    "})\n",
    "fall_records"
   ]
  },
  {
   "cell_type": "code",
   "execution_count": 35,
   "metadata": {},
   "outputs": [
    {
     "output_type": "execute_result",
     "data": {
      "text/plain": [
       "      Name  Homework  Exam\n",
       "0    Alice        60    65\n",
       "1      Bob        70    75\n",
       "2    Clare        80    85\n",
       "3    David        90    95\n",
       "0    Alice        66    69\n",
       "1      Eva        77    79\n",
       "2     Fred        88    89\n",
       "3  Gabriel        99    99"
      ],
      "text/html": "<div>\n<style scoped>\n    .dataframe tbody tr th:only-of-type {\n        vertical-align: middle;\n    }\n\n    .dataframe tbody tr th {\n        vertical-align: top;\n    }\n\n    .dataframe thead th {\n        text-align: right;\n    }\n</style>\n<table border=\"1\" class=\"dataframe\">\n  <thead>\n    <tr style=\"text-align: right;\">\n      <th></th>\n      <th>Name</th>\n      <th>Homework</th>\n      <th>Exam</th>\n    </tr>\n  </thead>\n  <tbody>\n    <tr>\n      <th>0</th>\n      <td>Alice</td>\n      <td>60</td>\n      <td>65</td>\n    </tr>\n    <tr>\n      <th>1</th>\n      <td>Bob</td>\n      <td>70</td>\n      <td>75</td>\n    </tr>\n    <tr>\n      <th>2</th>\n      <td>Clare</td>\n      <td>80</td>\n      <td>85</td>\n    </tr>\n    <tr>\n      <th>3</th>\n      <td>David</td>\n      <td>90</td>\n      <td>95</td>\n    </tr>\n    <tr>\n      <th>0</th>\n      <td>Alice</td>\n      <td>66</td>\n      <td>69</td>\n    </tr>\n    <tr>\n      <th>1</th>\n      <td>Eva</td>\n      <td>77</td>\n      <td>79</td>\n    </tr>\n    <tr>\n      <th>2</th>\n      <td>Fred</td>\n      <td>88</td>\n      <td>89</td>\n    </tr>\n    <tr>\n      <th>3</th>\n      <td>Gabriel</td>\n      <td>99</td>\n      <td>99</td>\n    </tr>\n  </tbody>\n</table>\n</div>"
     },
     "metadata": {},
     "execution_count": 35
    }
   ],
   "source": [
    "pd.concat([spring_records, fall_records])"
   ]
  },
  {
   "source": [
    "By default, `pd.concat` stacks pandas dataframes vertically, but by passing the `axis` argument, you can specify how pandas concatenates the dataframes. `axis=0` concatenates vertically and `axis=1` concatenates horizontally. "
   ],
   "cell_type": "markdown",
   "metadata": {}
  },
  {
   "source": [
    "# Group By"
   ],
   "cell_type": "markdown",
   "metadata": {}
  },
  {
   "cell_type": "code",
   "execution_count": 36,
   "metadata": {},
   "outputs": [
    {
     "output_type": "execute_result",
     "data": {
      "text/plain": [
       "       id ident           type                                name  \\\n",
       "0    6523   00A       heliport                   Total Rf Heliport   \n",
       "1  323361  00AA  small_airport                Aero B Ranch Airport   \n",
       "2    6524  00AK  small_airport                        Lowell Field   \n",
       "3    6525  00AL  small_airport                        Epps Airpark   \n",
       "4    6526  00AR         closed  Newport Hospital & Clinic Heliport   \n",
       "\n",
       "   latitude_deg  longitude_deg  elevation_ft continent iso_country iso_region  \\\n",
       "0     40.070801     -74.933601          11.0       NaN          US      US-PA   \n",
       "1     38.704022    -101.473911        3435.0       NaN          US      US-KS   \n",
       "2     59.949200    -151.695999         450.0       NaN          US      US-AK   \n",
       "3     34.864799     -86.770302         820.0       NaN          US      US-AL   \n",
       "4     35.608700     -91.254898         237.0       NaN          US      US-AR   \n",
       "\n",
       "   municipality scheduled_service gps_code iata_code local_code home_link  \\\n",
       "0      Bensalem                no      00A       NaN        00A       NaN   \n",
       "1         Leoti                no     00AA       NaN       00AA       NaN   \n",
       "2  Anchor Point                no     00AK       NaN       00AK       NaN   \n",
       "3       Harvest                no     00AL       NaN       00AL       NaN   \n",
       "4       Newport                no      NaN       NaN        NaN       NaN   \n",
       "\n",
       "  wikipedia_link keywords  \n",
       "0            NaN      NaN  \n",
       "1            NaN      NaN  \n",
       "2            NaN      NaN  \n",
       "3            NaN      NaN  \n",
       "4            NaN     00AR  "
      ],
      "text/html": "<div>\n<style scoped>\n    .dataframe tbody tr th:only-of-type {\n        vertical-align: middle;\n    }\n\n    .dataframe tbody tr th {\n        vertical-align: top;\n    }\n\n    .dataframe thead th {\n        text-align: right;\n    }\n</style>\n<table border=\"1\" class=\"dataframe\">\n  <thead>\n    <tr style=\"text-align: right;\">\n      <th></th>\n      <th>id</th>\n      <th>ident</th>\n      <th>type</th>\n      <th>name</th>\n      <th>latitude_deg</th>\n      <th>longitude_deg</th>\n      <th>elevation_ft</th>\n      <th>continent</th>\n      <th>iso_country</th>\n      <th>iso_region</th>\n      <th>municipality</th>\n      <th>scheduled_service</th>\n      <th>gps_code</th>\n      <th>iata_code</th>\n      <th>local_code</th>\n      <th>home_link</th>\n      <th>wikipedia_link</th>\n      <th>keywords</th>\n    </tr>\n  </thead>\n  <tbody>\n    <tr>\n      <th>0</th>\n      <td>6523</td>\n      <td>00A</td>\n      <td>heliport</td>\n      <td>Total Rf Heliport</td>\n      <td>40.070801</td>\n      <td>-74.933601</td>\n      <td>11.0</td>\n      <td>NaN</td>\n      <td>US</td>\n      <td>US-PA</td>\n      <td>Bensalem</td>\n      <td>no</td>\n      <td>00A</td>\n      <td>NaN</td>\n      <td>00A</td>\n      <td>NaN</td>\n      <td>NaN</td>\n      <td>NaN</td>\n    </tr>\n    <tr>\n      <th>1</th>\n      <td>323361</td>\n      <td>00AA</td>\n      <td>small_airport</td>\n      <td>Aero B Ranch Airport</td>\n      <td>38.704022</td>\n      <td>-101.473911</td>\n      <td>3435.0</td>\n      <td>NaN</td>\n      <td>US</td>\n      <td>US-KS</td>\n      <td>Leoti</td>\n      <td>no</td>\n      <td>00AA</td>\n      <td>NaN</td>\n      <td>00AA</td>\n      <td>NaN</td>\n      <td>NaN</td>\n      <td>NaN</td>\n    </tr>\n    <tr>\n      <th>2</th>\n      <td>6524</td>\n      <td>00AK</td>\n      <td>small_airport</td>\n      <td>Lowell Field</td>\n      <td>59.949200</td>\n      <td>-151.695999</td>\n      <td>450.0</td>\n      <td>NaN</td>\n      <td>US</td>\n      <td>US-AK</td>\n      <td>Anchor Point</td>\n      <td>no</td>\n      <td>00AK</td>\n      <td>NaN</td>\n      <td>00AK</td>\n      <td>NaN</td>\n      <td>NaN</td>\n      <td>NaN</td>\n    </tr>\n    <tr>\n      <th>3</th>\n      <td>6525</td>\n      <td>00AL</td>\n      <td>small_airport</td>\n      <td>Epps Airpark</td>\n      <td>34.864799</td>\n      <td>-86.770302</td>\n      <td>820.0</td>\n      <td>NaN</td>\n      <td>US</td>\n      <td>US-AL</td>\n      <td>Harvest</td>\n      <td>no</td>\n      <td>00AL</td>\n      <td>NaN</td>\n      <td>00AL</td>\n      <td>NaN</td>\n      <td>NaN</td>\n      <td>NaN</td>\n    </tr>\n    <tr>\n      <th>4</th>\n      <td>6526</td>\n      <td>00AR</td>\n      <td>closed</td>\n      <td>Newport Hospital &amp; Clinic Heliport</td>\n      <td>35.608700</td>\n      <td>-91.254898</td>\n      <td>237.0</td>\n      <td>NaN</td>\n      <td>US</td>\n      <td>US-AR</td>\n      <td>Newport</td>\n      <td>no</td>\n      <td>NaN</td>\n      <td>NaN</td>\n      <td>NaN</td>\n      <td>NaN</td>\n      <td>NaN</td>\n      <td>00AR</td>\n    </tr>\n  </tbody>\n</table>\n</div>"
     },
     "metadata": {},
     "execution_count": 36
    }
   ],
   "source": [
    "airports = pd.read_csv(\"./Data/airports.csv\", sep=\",\")\n",
    "airports.head()"
   ]
  },
  {
   "cell_type": "code",
   "execution_count": 37,
   "metadata": {},
   "outputs": [
    {
     "output_type": "execute_result",
     "data": {
      "text/plain": [
       "           id    ident           type  \\\n",
       "11955      67     AYPY  large_airport   \n",
       "12420     123     BIKF  large_airport   \n",
       "12467    4614     BKPR  large_airport   \n",
       "16122  329666  CN-0083  large_airport   \n",
       "17271    1717     CYEG  large_airport   \n",
       "\n",
       "                                              name  latitude_deg  \\\n",
       "11955  Port Moresby Jacksons International Airport     -9.443380   \n",
       "12420               Keflavik International Airport     63.985001   \n",
       "12467               Priština International Airport     42.572800   \n",
       "16122                               Guodu air base     36.001741   \n",
       "17271               Edmonton International Airport     53.309700   \n",
       "\n",
       "       longitude_deg  elevation_ft continent iso_country iso_region  \\\n",
       "11955     147.220001         146.0        OC          PG     PG-NCD   \n",
       "12420     -22.605600         171.0        EU          IS       IS-2   \n",
       "12467      21.035801        1789.0        EU          XK      XK-01   \n",
       "16122     117.632010           NaN        AS          CN     CN-U-A   \n",
       "17271    -113.580002        2373.0       NaN          CA      CA-AB   \n",
       "\n",
       "       municipality scheduled_service gps_code iata_code local_code  \\\n",
       "11955  Port Moresby               yes     AYPY       POM        NaN   \n",
       "12420     Reykjavík               yes     BIKF       KEF        NaN   \n",
       "12467     Prishtina               yes     BKPR       PRN        NaN   \n",
       "16122           NaN                no      NaN       NaN        NaN   \n",
       "17271      Edmonton               yes     CYEG       YEG       CYEG   \n",
       "\n",
       "                                       home_link  \\\n",
       "11955                                        NaN   \n",
       "12420  https://www.isavia.is/en/keflavik-airport   \n",
       "12467            http://www.airportpristina.com/   \n",
       "16122                                        NaN   \n",
       "17271           http://www.edmontonairports.com/   \n",
       "\n",
       "                                          wikipedia_link  \\\n",
       "11955  https://en.wikipedia.org/wiki/Jacksons_Interna...   \n",
       "12420  https://en.wikipedia.org/wiki/Keflav%C3%ADk_In...   \n",
       "12467  https://en.wikipedia.org/wiki/Pristina_Interna...   \n",
       "16122                                                NaN   \n",
       "17271  https://en.wikipedia.org/wiki/Edmonton_Interna...   \n",
       "\n",
       "                               keywords  \n",
       "11955                               NaN  \n",
       "12420    Keflavik Naval Air Station,REK  \n",
       "12467  LYPR, Pristina, Slatina Air Base  \n",
       "16122                               NaN  \n",
       "17271                               YEA  "
      ],
      "text/html": "<div>\n<style scoped>\n    .dataframe tbody tr th:only-of-type {\n        vertical-align: middle;\n    }\n\n    .dataframe tbody tr th {\n        vertical-align: top;\n    }\n\n    .dataframe thead th {\n        text-align: right;\n    }\n</style>\n<table border=\"1\" class=\"dataframe\">\n  <thead>\n    <tr style=\"text-align: right;\">\n      <th></th>\n      <th>id</th>\n      <th>ident</th>\n      <th>type</th>\n      <th>name</th>\n      <th>latitude_deg</th>\n      <th>longitude_deg</th>\n      <th>elevation_ft</th>\n      <th>continent</th>\n      <th>iso_country</th>\n      <th>iso_region</th>\n      <th>municipality</th>\n      <th>scheduled_service</th>\n      <th>gps_code</th>\n      <th>iata_code</th>\n      <th>local_code</th>\n      <th>home_link</th>\n      <th>wikipedia_link</th>\n      <th>keywords</th>\n    </tr>\n  </thead>\n  <tbody>\n    <tr>\n      <th>11955</th>\n      <td>67</td>\n      <td>AYPY</td>\n      <td>large_airport</td>\n      <td>Port Moresby Jacksons International Airport</td>\n      <td>-9.443380</td>\n      <td>147.220001</td>\n      <td>146.0</td>\n      <td>OC</td>\n      <td>PG</td>\n      <td>PG-NCD</td>\n      <td>Port Moresby</td>\n      <td>yes</td>\n      <td>AYPY</td>\n      <td>POM</td>\n      <td>NaN</td>\n      <td>NaN</td>\n      <td>https://en.wikipedia.org/wiki/Jacksons_Interna...</td>\n      <td>NaN</td>\n    </tr>\n    <tr>\n      <th>12420</th>\n      <td>123</td>\n      <td>BIKF</td>\n      <td>large_airport</td>\n      <td>Keflavik International Airport</td>\n      <td>63.985001</td>\n      <td>-22.605600</td>\n      <td>171.0</td>\n      <td>EU</td>\n      <td>IS</td>\n      <td>IS-2</td>\n      <td>Reykjavík</td>\n      <td>yes</td>\n      <td>BIKF</td>\n      <td>KEF</td>\n      <td>NaN</td>\n      <td>https://www.isavia.is/en/keflavik-airport</td>\n      <td>https://en.wikipedia.org/wiki/Keflav%C3%ADk_In...</td>\n      <td>Keflavik Naval Air Station,REK</td>\n    </tr>\n    <tr>\n      <th>12467</th>\n      <td>4614</td>\n      <td>BKPR</td>\n      <td>large_airport</td>\n      <td>Priština International Airport</td>\n      <td>42.572800</td>\n      <td>21.035801</td>\n      <td>1789.0</td>\n      <td>EU</td>\n      <td>XK</td>\n      <td>XK-01</td>\n      <td>Prishtina</td>\n      <td>yes</td>\n      <td>BKPR</td>\n      <td>PRN</td>\n      <td>NaN</td>\n      <td>http://www.airportpristina.com/</td>\n      <td>https://en.wikipedia.org/wiki/Pristina_Interna...</td>\n      <td>LYPR, Pristina, Slatina Air Base</td>\n    </tr>\n    <tr>\n      <th>16122</th>\n      <td>329666</td>\n      <td>CN-0083</td>\n      <td>large_airport</td>\n      <td>Guodu air base</td>\n      <td>36.001741</td>\n      <td>117.632010</td>\n      <td>NaN</td>\n      <td>AS</td>\n      <td>CN</td>\n      <td>CN-U-A</td>\n      <td>NaN</td>\n      <td>no</td>\n      <td>NaN</td>\n      <td>NaN</td>\n      <td>NaN</td>\n      <td>NaN</td>\n      <td>NaN</td>\n      <td>NaN</td>\n    </tr>\n    <tr>\n      <th>17271</th>\n      <td>1717</td>\n      <td>CYEG</td>\n      <td>large_airport</td>\n      <td>Edmonton International Airport</td>\n      <td>53.309700</td>\n      <td>-113.580002</td>\n      <td>2373.0</td>\n      <td>NaN</td>\n      <td>CA</td>\n      <td>CA-AB</td>\n      <td>Edmonton</td>\n      <td>yes</td>\n      <td>CYEG</td>\n      <td>YEG</td>\n      <td>CYEG</td>\n      <td>http://www.edmontonairports.com/</td>\n      <td>https://en.wikipedia.org/wiki/Edmonton_Interna...</td>\n      <td>YEA</td>\n    </tr>\n  </tbody>\n</table>\n</div>"
     },
     "metadata": {},
     "execution_count": 37
    }
   ],
   "source": [
    "# Create a data frame that shows the number of large airports for each country.\n",
    "\n",
    "# 1. Extract large airports\n",
    "filter1 = (airports['type'] == 'large_airport')\n",
    "large_airports = airports[filter1]\n",
    "large_airports.head()"
   ]
  },
  {
   "cell_type": "code",
   "execution_count": 49,
   "metadata": {},
   "outputs": [],
   "source": [
    "# 2. Split the data frame according to the country they belong to\n",
    "\n",
    "groups = large_airports.groupby('iso_country')"
   ]
  },
  {
   "source": [
    "The pandas `groupby` method takes as an argument one or more column names, values or functions for which pandas will separate into different groups. For instance, in the case above, Pandas will separate the data according to the iso country code "
   ],
   "cell_type": "markdown",
   "metadata": {}
  },
  {
   "cell_type": "code",
   "execution_count": 48,
   "metadata": {},
   "outputs": [
    {
     "output_type": "execute_result",
     "data": {
      "text/plain": [
       "             Large airports by iso country\n",
       "iso_country                               \n",
       "AE                                       4\n",
       "AL                                       1\n",
       "AM                                       1\n",
       "AO                                       1\n",
       "AR                                       1\n",
       "...                                    ...\n",
       "VN                                       3\n",
       "XK                                       1\n",
       "ZA                                       4\n",
       "ZM                                       1\n",
       "ZW                                       1\n",
       "\n",
       "[148 rows x 1 columns]"
      ],
      "text/html": "<div>\n<style scoped>\n    .dataframe tbody tr th:only-of-type {\n        vertical-align: middle;\n    }\n\n    .dataframe tbody tr th {\n        vertical-align: top;\n    }\n\n    .dataframe thead th {\n        text-align: right;\n    }\n</style>\n<table border=\"1\" class=\"dataframe\">\n  <thead>\n    <tr style=\"text-align: right;\">\n      <th></th>\n      <th>Large airports by iso country</th>\n    </tr>\n    <tr>\n      <th>iso_country</th>\n      <th></th>\n    </tr>\n  </thead>\n  <tbody>\n    <tr>\n      <th>AE</th>\n      <td>4</td>\n    </tr>\n    <tr>\n      <th>AL</th>\n      <td>1</td>\n    </tr>\n    <tr>\n      <th>AM</th>\n      <td>1</td>\n    </tr>\n    <tr>\n      <th>AO</th>\n      <td>1</td>\n    </tr>\n    <tr>\n      <th>AR</th>\n      <td>1</td>\n    </tr>\n    <tr>\n      <th>...</th>\n      <td>...</td>\n    </tr>\n    <tr>\n      <th>VN</th>\n      <td>3</td>\n    </tr>\n    <tr>\n      <th>XK</th>\n      <td>1</td>\n    </tr>\n    <tr>\n      <th>ZA</th>\n      <td>4</td>\n    </tr>\n    <tr>\n      <th>ZM</th>\n      <td>1</td>\n    </tr>\n    <tr>\n      <th>ZW</th>\n      <td>1</td>\n    </tr>\n  </tbody>\n</table>\n<p>148 rows × 1 columns</p>\n</div>"
     },
     "metadata": {},
     "execution_count": 48
    }
   ],
   "source": [
    "num_airports = groups.size().to_frame(name=\"Large airports by iso country\")\n",
    "num_airports"
   ]
  },
  {
   "source": [
    "`to_frame` converts a pandas series into a dataframe\n",
    "\n",
    "- **name** `str`: column name for the series in the group."
   ],
   "cell_type": "markdown",
   "metadata": {}
  },
  {
   "source": [
    "### Data Aggregations\n",
    "\n",
    "Aggregation refer to any data transformation that produces numeric values from arrays. Examples of data aggregation methods include mean(), size(), count(), first(), min(), max(), and sum(). Moreover, user-defined functions can also be applied to create desired summary."
   ],
   "cell_type": "markdown",
   "metadata": {}
  },
  {
   "cell_type": "code",
   "execution_count": 52,
   "metadata": {},
   "outputs": [
    {
     "output_type": "stream",
     "name": "stdout",
     "text": [
      "(830, 6)\n"
     ]
    },
    {
     "output_type": "execute_result",
     "data": {
      "text/plain": [
       "                 date  duration  item    month   network network_type\n",
       "index                                                                \n",
       "0      15/10/14 06:58    34.429  data  2014-11      data         data\n",
       "1      15/10/14 06:58    13.000  call  2014-11  Vodafone       mobile\n",
       "2      15/10/14 14:46    23.000  call  2014-11    Meteor       mobile"
      ],
      "text/html": "<div>\n<style scoped>\n    .dataframe tbody tr th:only-of-type {\n        vertical-align: middle;\n    }\n\n    .dataframe tbody tr th {\n        vertical-align: top;\n    }\n\n    .dataframe thead th {\n        text-align: right;\n    }\n</style>\n<table border=\"1\" class=\"dataframe\">\n  <thead>\n    <tr style=\"text-align: right;\">\n      <th></th>\n      <th>date</th>\n      <th>duration</th>\n      <th>item</th>\n      <th>month</th>\n      <th>network</th>\n      <th>network_type</th>\n    </tr>\n    <tr>\n      <th>index</th>\n      <th></th>\n      <th></th>\n      <th></th>\n      <th></th>\n      <th></th>\n      <th></th>\n    </tr>\n  </thead>\n  <tbody>\n    <tr>\n      <th>0</th>\n      <td>15/10/14 06:58</td>\n      <td>34.429</td>\n      <td>data</td>\n      <td>2014-11</td>\n      <td>data</td>\n      <td>data</td>\n    </tr>\n    <tr>\n      <th>1</th>\n      <td>15/10/14 06:58</td>\n      <td>13.000</td>\n      <td>call</td>\n      <td>2014-11</td>\n      <td>Vodafone</td>\n      <td>mobile</td>\n    </tr>\n    <tr>\n      <th>2</th>\n      <td>15/10/14 14:46</td>\n      <td>23.000</td>\n      <td>call</td>\n      <td>2014-11</td>\n      <td>Meteor</td>\n      <td>mobile</td>\n    </tr>\n  </tbody>\n</table>\n</div>"
     },
     "metadata": {},
     "execution_count": 52
    }
   ],
   "source": [
    "data = pd.read_csv(\"./Data/phone_data.csv\", sep=\",\", index_col='index')\n",
    "print(data.shape)\n",
    "data.head(3)"
   ]
  },
  {
   "cell_type": "code",
   "execution_count": 53,
   "metadata": {},
   "outputs": [],
   "source": [
    "# Define function get_range() that returns(max - min)\n",
    "def get_range(array):\n",
    "    return array.max() - array.min()"
   ]
  },
  {
   "cell_type": "code",
   "execution_count": 54,
   "metadata": {},
   "outputs": [
    {
     "output_type": "execute_result",
     "data": {
      "text/plain": [
       "item\n",
       "call    10527.0\n",
       "data        0.0\n",
       "sms         0.0\n",
       "Name: duration, dtype: float64"
      ]
     },
     "metadata": {},
     "execution_count": 54
    }
   ],
   "source": [
    "# Apply agg() to find the range of each type of cell phone use.\n",
    "data.groupby(['item'])['duration'].agg(get_range)"
   ]
  },
  {
   "source": [
    "Aggregate using one or more operations over the specified axis. Takes in a function, lambda or list of functions, for example:"
   ],
   "cell_type": "markdown",
   "metadata": {}
  },
  {
   "cell_type": "code",
   "execution_count": 55,
   "metadata": {},
   "outputs": [
    {
     "output_type": "execute_result",
     "data": {
      "text/plain": [
       "      get_range       amax    amin\n",
       "item                              \n",
       "call    10527.0  10528.000   1.000\n",
       "data        0.0     34.429  34.429\n",
       "sms         0.0      1.000   1.000"
      ],
      "text/html": "<div>\n<style scoped>\n    .dataframe tbody tr th:only-of-type {\n        vertical-align: middle;\n    }\n\n    .dataframe tbody tr th {\n        vertical-align: top;\n    }\n\n    .dataframe thead th {\n        text-align: right;\n    }\n</style>\n<table border=\"1\" class=\"dataframe\">\n  <thead>\n    <tr style=\"text-align: right;\">\n      <th></th>\n      <th>get_range</th>\n      <th>amax</th>\n      <th>amin</th>\n    </tr>\n    <tr>\n      <th>item</th>\n      <th></th>\n      <th></th>\n      <th></th>\n    </tr>\n  </thead>\n  <tbody>\n    <tr>\n      <th>call</th>\n      <td>10527.0</td>\n      <td>10528.000</td>\n      <td>1.000</td>\n    </tr>\n    <tr>\n      <th>data</th>\n      <td>0.0</td>\n      <td>34.429</td>\n      <td>34.429</td>\n    </tr>\n    <tr>\n      <th>sms</th>\n      <td>0.0</td>\n      <td>1.000</td>\n      <td>1.000</td>\n    </tr>\n  </tbody>\n</table>\n</div>"
     },
     "metadata": {},
     "execution_count": 55
    }
   ],
   "source": [
    "# Apply multiple aggregation functions\n",
    "data.groupby(['item'])['duration'].agg([get_range, np.max, np.min])"
   ]
  },
  {
   "source": [
    "## GroupBy reminder:\n",
    "\n",
    "groupby groups have the following methods:\n",
    "mean(), size(), count(), first(), min(), max(), and sum().\n",
    "\n",
    "And can be used in the following way:\n",
    "groups.mean()\n",
    "groups.size()\n",
    "..."
   ],
   "cell_type": "markdown",
   "metadata": {}
  },
  {
   "source": [
    "# Time Series Data\n"
   ],
   "cell_type": "markdown",
   "metadata": {}
  },
  {
   "cell_type": "code",
   "execution_count": 64,
   "metadata": {},
   "outputs": [
    {
     "output_type": "stream",
     "name": "stdout",
     "text": [
      "2020-12-15 23:52:16.893960\n2020\n15\n12\n"
     ]
    }
   ],
   "source": [
    "print(datetime.now())\n",
    "print(datetime.now().year)\n",
    "print(datetime.now().day)\n",
    "print(datetime.now().month)"
   ]
  },
  {
   "cell_type": "code",
   "execution_count": 65,
   "metadata": {},
   "outputs": [
    {
     "output_type": "execute_result",
     "data": {
      "text/plain": [
       "datetime.datetime(2020, 12, 25, 23, 52, 28, 122714)"
      ]
     },
     "metadata": {},
     "execution_count": 65
    }
   ],
   "source": [
    "delta = timedelta(10)\n",
    "\n",
    "datetime.now() + delta"
   ]
  },
  {
   "cell_type": "code",
   "execution_count": 70,
   "metadata": {},
   "outputs": [
    {
     "output_type": "execute_result",
     "data": {
      "text/plain": [
       "'2011-12-03 23:30:45'"
      ]
     },
     "metadata": {},
     "execution_count": 70
    }
   ],
   "source": [
    "# datetime to string\n",
    "date = datetime(2011, 12, 3, 23, 30, 45)\n",
    "str(date)"
   ]
  },
  {
   "source": [
    "`datetime` creates a datetime object \n",
    "\n",
    "**ARGUMENT ORDER IS IMPORTANT** <br>\n",
    "datetime(year, month, day, hour, minute, second)"
   ],
   "cell_type": "markdown",
   "metadata": {}
  },
  {
   "cell_type": "code",
   "execution_count": 68,
   "metadata": {},
   "outputs": [
    {
     "output_type": "execute_result",
     "data": {
      "text/plain": [
       "'2011/01/03 23:30, Monday'"
      ]
     },
     "metadata": {},
     "execution_count": 68
    }
   ],
   "source": [
    "# Convert to format \"YYYY-MM-DD\"\n",
    "date.strftime(\"%Y/%m/%d %H:%M, %A\")"
   ]
  },
  {
   "source": [
    "`strftime` formats a datetime object according to the patter passed \n",
    "\n",
    "**SEPARATE EACH TOKEN WITH** `%`\n",
    "Datetime formats:\n",
    "- %Y: Four-digit year\n",
    "- %y: Two-digit year\n",
    "- %m: Two-digit month\n",
    "- %d: Two-digit day\n",
    "- %H: Hour 0 - 23\n",
    "- %I: Hour 1 - 12\n",
    "- %M: Two-digit minute\n",
    "- %S: Second\n",
    "- %A: Weekday\n",
    "\n",
    "[More on this](https://docs.python.org/2/library/datetime.html)"
   ],
   "cell_type": "markdown",
   "metadata": {}
  },
  {
   "cell_type": "code",
   "execution_count": 72,
   "metadata": {},
   "outputs": [
    {
     "output_type": "execute_result",
     "data": {
      "text/plain": [
       "datetime.datetime(2011, 1, 3, 0, 0)"
      ]
     },
     "metadata": {},
     "execution_count": 72
    }
   ],
   "source": [
    "parse(\"2011-01-03\")"
   ]
  },
  {
   "source": [
    "`parse` converts a string into a datetime object"
   ],
   "cell_type": "markdown",
   "metadata": {}
  },
  {
   "cell_type": "code",
   "execution_count": 73,
   "metadata": {},
   "outputs": [
    {
     "output_type": "execute_result",
     "data": {
      "text/plain": [
       "datetime.datetime(2011, 12, 6, 0, 0)"
      ]
     },
     "metadata": {},
     "execution_count": 73
    }
   ],
   "source": [
    "# Many countries use format \"DD/MM/YYYY\". We need to set dayfirst=True\n",
    "# so that the date is correctly recognized.\n",
    "parse(\"06/12/2011\", dayfirst=True)"
   ]
  },
  {
   "source": [
    "### Time Series Basics "
   ],
   "cell_type": "markdown",
   "metadata": {}
  },
  {
   "cell_type": "code",
   "execution_count": 74,
   "metadata": {},
   "outputs": [
    {
     "output_type": "execute_result",
     "data": {
      "text/plain": [
       "2011-01-02    1.425658\n",
       "2011-01-05   -0.693034\n",
       "2011-02-07   -1.425432\n",
       "2011-02-08    1.717807\n",
       "2011-03-10    0.482319\n",
       "2011-03-12   -0.374166\n",
       "dtype: float64"
      ]
     },
     "metadata": {},
     "execution_count": 74
    }
   ],
   "source": [
    "\n",
    "# Create a list of datetime objects\n",
    "dates = [datetime(2011, 1, 2), datetime(2011, 1, 5),\n",
    "         datetime(2011, 2, 7), datetime(2011, 2, 8),\n",
    "         datetime(2011, 3, 10), datetime(2011, 3, 12)]\n",
    "ts = pd.Series(np.random.randn(6), index=dates)\n",
    "ts"
   ]
  },
  {
   "source": [
    "The cell above creates a pandas `series` object with random numbers and dates as an index. \n",
    "\n",
    "In this times series, we can search items in the series by date or by index, as we will see below."
   ],
   "cell_type": "markdown",
   "metadata": {}
  },
  {
   "cell_type": "code",
   "execution_count": 75,
   "metadata": {},
   "outputs": [
    {
     "output_type": "execute_result",
     "data": {
      "text/plain": [
       "-0.693034422960849"
      ]
     },
     "metadata": {},
     "execution_count": 75
    }
   ],
   "source": [
    "# Select 01/05\n",
    "ts['2011-01-05']"
   ]
  },
  {
   "cell_type": "code",
   "execution_count": 76,
   "metadata": {},
   "outputs": [
    {
     "output_type": "execute_result",
     "data": {
      "text/plain": [
       "-0.693034422960849"
      ]
     },
     "metadata": {},
     "execution_count": 76
    }
   ],
   "source": [
    "ts[1]\n"
   ]
  },
  {
   "cell_type": "code",
   "execution_count": 77,
   "metadata": {},
   "outputs": [
    {
     "output_type": "execute_result",
     "data": {
      "text/plain": [
       "2011-02-07   -1.425432\n",
       "2011-02-08    1.717807\n",
       "dtype: float64"
      ]
     },
     "metadata": {},
     "execution_count": 77
    }
   ],
   "source": [
    "# Select a range of dates\n",
    "ts['2011-02']"
   ]
  },
  {
   "source": [
    "the cell above selects all of the object which happened on 2011-02, i.e, February 2011, for example:\n",
    "\n",
    "- 2011-02-07    0.271973\n",
    "- 2011-02-08    1.349570"
   ],
   "cell_type": "markdown",
   "metadata": {}
  },
  {
   "cell_type": "code",
   "execution_count": 79,
   "metadata": {},
   "outputs": [
    {
     "output_type": "execute_result",
     "data": {
      "text/plain": [
       "2011-02-07   -1.425432\n",
       "2011-02-08    1.717807\n",
       "dtype: float64"
      ]
     },
     "metadata": {},
     "execution_count": 79
    }
   ],
   "source": [
    "# You can select a range of dates as well \n",
    "ts['2011-02-01':'2011-02-8'] # the end datetime is also included"
   ]
  },
  {
   "source": [
    "### Date Ranges"
   ],
   "cell_type": "markdown",
   "metadata": {}
  },
  {
   "cell_type": "code",
   "execution_count": 80,
   "metadata": {},
   "outputs": [
    {
     "output_type": "execute_result",
     "data": {
      "text/plain": [
       "2011-01-02    1.425658\n",
       "2011-03-10    0.482319\n",
       "dtype: float64"
      ]
     },
     "metadata": {},
     "execution_count": 80
    }
   ],
   "source": [
    "\n",
    "# manually populate a list of dates\n",
    "dates = [datetime(2011, 1, 2), datetime(2011, 3, 10), datetime(2011, 4, 1)]\n",
    "# ts[dates] # Pandas no longer supports missing indices\n",
    "ts[ts.index.isin(dates)]"
   ]
  },
  {
   "source": [
    "Remember that the pandas `.isin` method searches for any coinciding elements between a dataframe and the argument"
   ],
   "cell_type": "markdown",
   "metadata": {}
  },
  {
   "cell_type": "code",
   "execution_count": 81,
   "metadata": {},
   "outputs": [],
   "source": [
    "# Create a range of dates\n",
    "daterange = pd.date_range('2011-01-01', periods=8)"
   ]
  },
  {
   "source": [
    "`data_range` return a DatetimeIndex object, which is like a pandas series. This object contains a range of dates starting at the specified date (`2011-01-01` in this case), with a length of `n` periods (`8` in this case). \n",
    "\n",
    "By default, the periods will equal 1 day, but this can be changed using the `freq` argument, for example:"
   ],
   "cell_type": "markdown",
   "metadata": {}
  },
  {
   "cell_type": "code",
   "execution_count": 82,
   "metadata": {},
   "outputs": [
    {
     "output_type": "stream",
     "name": "stdout",
     "text": [
      "DatetimeIndex(['2011-01-01', '2011-01-03', '2011-01-05', '2011-01-07',\n               '2011-01-09'],\n              dtype='datetime64[ns]', freq='2D')\n"
     ]
    }
   ],
   "source": [
    "# 2 day periods\n",
    "\n",
    "daterange = pd.date_range('2011-01-01', periods=5, freq='2D')\n",
    "print(daterange)\n"
   ]
  },
  {
   "cell_type": "code",
   "execution_count": 83,
   "metadata": {},
   "outputs": [
    {
     "output_type": "stream",
     "name": "stdout",
     "text": [
      "DatetimeIndex(['2011-01-01 00:00:00', '2011-01-01 10:00:00',\n               '2011-01-01 20:00:00', '2011-01-02 06:00:00',\n               '2011-01-02 16:00:00'],\n              dtype='datetime64[ns]', freq='10H')\n"
     ]
    }
   ],
   "source": [
    "# 10 hour periods\n",
    "\n",
    "daterange = pd.date_range(\"2011-01-01\", periods=5, freq=\"10H\")\n",
    "print(daterange)"
   ]
  },
  {
   "cell_type": "code",
   "execution_count": 84,
   "metadata": {},
   "outputs": [
    {
     "output_type": "stream",
     "name": "stdout",
     "text": [
      "DatetimeIndex(['2011-01-03', '2011-01-04', '2011-01-05', '2011-01-06',\n               '2011-01-07', '2011-01-10', '2011-01-11', '2011-01-12',\n               '2011-01-13', '2011-01-14'],\n              dtype='datetime64[ns]', freq='B')\n"
     ]
    }
   ],
   "source": [
    "# Sample business days only\n",
    "\n",
    "daterange = pd.date_range(\"2011-01-01\", periods=10, freq=\"B\")\n",
    "print(daterange)"
   ]
  },
  {
   "cell_type": "code",
   "execution_count": null,
   "metadata": {},
   "outputs": [],
   "source": []
  }
 ]
}